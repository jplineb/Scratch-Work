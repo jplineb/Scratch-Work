{
 "cells": [
  {
   "cell_type": "markdown",
   "source": [
    "# Import "
   ],
   "metadata": {}
  },
  {
   "cell_type": "code",
   "execution_count": 32,
   "source": [
    "import pandas as pd\n",
    "import numpy as np\n",
    "from sklearn.linear_model import ElasticNet\n",
    "from sklearn.feature_selection import SelectFromModel\n",
    "from sklearn import svm\n",
    "from sklearn.model_selection import KFold, cross_validate, LeaveOneOut"
   ],
   "outputs": [],
   "metadata": {}
  },
  {
   "cell_type": "markdown",
   "source": [
    "# Read Data"
   ],
   "metadata": {}
  },
  {
   "cell_type": "code",
   "execution_count": 15,
   "source": [
    "data_df = pd.read_csv('./data/eig_centrality.csv', header=None)\n",
    "data_df = data_df.loc[:, (data_df != 0).any(axis=0)] # drop columns with zeros\n",
    "data_df.head()"
   ],
   "outputs": [
    {
     "output_type": "execute_result",
     "data": {
      "text/plain": [
       "   0         1         2         6         7         10        12        13   \\\n",
       "0    1 -0.067894 -0.062832 -0.031240 -0.071004 -0.030888  0.009534  0.044660   \n",
       "1    1  0.031793  0.025996  0.122030  0.109220 -0.005733  0.017223 -0.072822   \n",
       "2    1 -0.005251 -0.015806 -0.124040 -0.117020 -0.017355 -0.035984  0.106950   \n",
       "3    1  0.123150  0.096576 -0.045236 -0.005143 -0.017959 -0.060064  0.008232   \n",
       "4    1 -0.059846 -0.024500 -0.022105  0.022153  0.079495 -0.013115  0.019867   \n",
       "\n",
       "        14        15   ...       285       286           287           288  \\\n",
       "0  0.043163  0.025440  ... -0.112760 -0.106070  0.000000e+00  0.000000e+00   \n",
       "1 -0.077072 -0.126650  ...  0.078364  0.049836  0.000000e+00  6.938900e-18   \n",
       "2  0.011851  0.077032  ...  0.021125  0.014470  0.000000e+00 -1.734700e-18   \n",
       "3 -0.076910 -0.042061  ... -0.043127 -0.024063  5.551100e-17 -1.110200e-16   \n",
       "4  0.032033  0.012232  ... -0.026404 -0.004397 -4.336800e-19  0.000000e+00   \n",
       "\n",
       "        289       290       291       292       293       294  \n",
       "0 -0.028195 -0.024616 -0.042535 -0.087451  0.003145 -0.047196  \n",
       "1 -0.076947 -0.078418 -0.064815  0.095082  0.054585  0.076347  \n",
       "2  0.068705  0.084321  0.047107  0.004649 -0.142760 -0.129450  \n",
       "3 -0.064510 -0.100380 -0.112950 -0.099919 -0.006036 -0.004228  \n",
       "4 -0.068379  0.006091 -0.050172  0.056009  0.077894  0.016500  \n",
       "\n",
       "[5 rows x 274 columns]"
      ],
      "text/html": [
       "<div>\n",
       "<style scoped>\n",
       "    .dataframe tbody tr th:only-of-type {\n",
       "        vertical-align: middle;\n",
       "    }\n",
       "\n",
       "    .dataframe tbody tr th {\n",
       "        vertical-align: top;\n",
       "    }\n",
       "\n",
       "    .dataframe thead th {\n",
       "        text-align: right;\n",
       "    }\n",
       "</style>\n",
       "<table border=\"1\" class=\"dataframe\">\n",
       "  <thead>\n",
       "    <tr style=\"text-align: right;\">\n",
       "      <th></th>\n",
       "      <th>0</th>\n",
       "      <th>1</th>\n",
       "      <th>2</th>\n",
       "      <th>6</th>\n",
       "      <th>7</th>\n",
       "      <th>10</th>\n",
       "      <th>12</th>\n",
       "      <th>13</th>\n",
       "      <th>14</th>\n",
       "      <th>15</th>\n",
       "      <th>...</th>\n",
       "      <th>285</th>\n",
       "      <th>286</th>\n",
       "      <th>287</th>\n",
       "      <th>288</th>\n",
       "      <th>289</th>\n",
       "      <th>290</th>\n",
       "      <th>291</th>\n",
       "      <th>292</th>\n",
       "      <th>293</th>\n",
       "      <th>294</th>\n",
       "    </tr>\n",
       "  </thead>\n",
       "  <tbody>\n",
       "    <tr>\n",
       "      <th>0</th>\n",
       "      <td>1</td>\n",
       "      <td>-0.067894</td>\n",
       "      <td>-0.062832</td>\n",
       "      <td>-0.031240</td>\n",
       "      <td>-0.071004</td>\n",
       "      <td>-0.030888</td>\n",
       "      <td>0.009534</td>\n",
       "      <td>0.044660</td>\n",
       "      <td>0.043163</td>\n",
       "      <td>0.025440</td>\n",
       "      <td>...</td>\n",
       "      <td>-0.112760</td>\n",
       "      <td>-0.106070</td>\n",
       "      <td>0.000000e+00</td>\n",
       "      <td>0.000000e+00</td>\n",
       "      <td>-0.028195</td>\n",
       "      <td>-0.024616</td>\n",
       "      <td>-0.042535</td>\n",
       "      <td>-0.087451</td>\n",
       "      <td>0.003145</td>\n",
       "      <td>-0.047196</td>\n",
       "    </tr>\n",
       "    <tr>\n",
       "      <th>1</th>\n",
       "      <td>1</td>\n",
       "      <td>0.031793</td>\n",
       "      <td>0.025996</td>\n",
       "      <td>0.122030</td>\n",
       "      <td>0.109220</td>\n",
       "      <td>-0.005733</td>\n",
       "      <td>0.017223</td>\n",
       "      <td>-0.072822</td>\n",
       "      <td>-0.077072</td>\n",
       "      <td>-0.126650</td>\n",
       "      <td>...</td>\n",
       "      <td>0.078364</td>\n",
       "      <td>0.049836</td>\n",
       "      <td>0.000000e+00</td>\n",
       "      <td>6.938900e-18</td>\n",
       "      <td>-0.076947</td>\n",
       "      <td>-0.078418</td>\n",
       "      <td>-0.064815</td>\n",
       "      <td>0.095082</td>\n",
       "      <td>0.054585</td>\n",
       "      <td>0.076347</td>\n",
       "    </tr>\n",
       "    <tr>\n",
       "      <th>2</th>\n",
       "      <td>1</td>\n",
       "      <td>-0.005251</td>\n",
       "      <td>-0.015806</td>\n",
       "      <td>-0.124040</td>\n",
       "      <td>-0.117020</td>\n",
       "      <td>-0.017355</td>\n",
       "      <td>-0.035984</td>\n",
       "      <td>0.106950</td>\n",
       "      <td>0.011851</td>\n",
       "      <td>0.077032</td>\n",
       "      <td>...</td>\n",
       "      <td>0.021125</td>\n",
       "      <td>0.014470</td>\n",
       "      <td>0.000000e+00</td>\n",
       "      <td>-1.734700e-18</td>\n",
       "      <td>0.068705</td>\n",
       "      <td>0.084321</td>\n",
       "      <td>0.047107</td>\n",
       "      <td>0.004649</td>\n",
       "      <td>-0.142760</td>\n",
       "      <td>-0.129450</td>\n",
       "    </tr>\n",
       "    <tr>\n",
       "      <th>3</th>\n",
       "      <td>1</td>\n",
       "      <td>0.123150</td>\n",
       "      <td>0.096576</td>\n",
       "      <td>-0.045236</td>\n",
       "      <td>-0.005143</td>\n",
       "      <td>-0.017959</td>\n",
       "      <td>-0.060064</td>\n",
       "      <td>0.008232</td>\n",
       "      <td>-0.076910</td>\n",
       "      <td>-0.042061</td>\n",
       "      <td>...</td>\n",
       "      <td>-0.043127</td>\n",
       "      <td>-0.024063</td>\n",
       "      <td>5.551100e-17</td>\n",
       "      <td>-1.110200e-16</td>\n",
       "      <td>-0.064510</td>\n",
       "      <td>-0.100380</td>\n",
       "      <td>-0.112950</td>\n",
       "      <td>-0.099919</td>\n",
       "      <td>-0.006036</td>\n",
       "      <td>-0.004228</td>\n",
       "    </tr>\n",
       "    <tr>\n",
       "      <th>4</th>\n",
       "      <td>1</td>\n",
       "      <td>-0.059846</td>\n",
       "      <td>-0.024500</td>\n",
       "      <td>-0.022105</td>\n",
       "      <td>0.022153</td>\n",
       "      <td>0.079495</td>\n",
       "      <td>-0.013115</td>\n",
       "      <td>0.019867</td>\n",
       "      <td>0.032033</td>\n",
       "      <td>0.012232</td>\n",
       "      <td>...</td>\n",
       "      <td>-0.026404</td>\n",
       "      <td>-0.004397</td>\n",
       "      <td>-4.336800e-19</td>\n",
       "      <td>0.000000e+00</td>\n",
       "      <td>-0.068379</td>\n",
       "      <td>0.006091</td>\n",
       "      <td>-0.050172</td>\n",
       "      <td>0.056009</td>\n",
       "      <td>0.077894</td>\n",
       "      <td>0.016500</td>\n",
       "    </tr>\n",
       "  </tbody>\n",
       "</table>\n",
       "<p>5 rows × 274 columns</p>\n",
       "</div>"
      ]
     },
     "metadata": {},
     "execution_count": 15
    }
   ],
   "metadata": {}
  },
  {
   "cell_type": "code",
   "execution_count": 61,
   "source": [
    "# Extract data\n",
    "X = abs(data_df.iloc[:,1:])\n",
    "y = data_df.iloc[:,0]\n",
    "\n",
    "print(X.shape)\n",
    "print(y.shape)"
   ],
   "outputs": [
    {
     "output_type": "stream",
     "name": "stdout",
     "text": [
      "(60, 273)\n",
      "(60,)\n"
     ]
    }
   ],
   "metadata": {}
  },
  {
   "cell_type": "markdown",
   "source": [
    "# Elastic Regression"
   ],
   "metadata": {}
  },
  {
   "cell_type": "code",
   "execution_count": 62,
   "source": [
    "regr = ElasticNet(random_state=42, max_iter=10000)\n",
    "regr.fit(X,y)\n",
    "regr.score(X,y)"
   ],
   "outputs": [
    {
     "output_type": "execute_result",
     "data": {
      "text/plain": [
       "0.0"
      ]
     },
     "metadata": {},
     "execution_count": 62
    }
   ],
   "metadata": {}
  },
  {
   "cell_type": "markdown",
   "source": [
    "# Feature selector"
   ],
   "metadata": {}
  },
  {
   "cell_type": "code",
   "execution_count": 63,
   "source": [
    "regr = ElasticNet(random_state=42, selection='random', max_iter=10000)\n",
    "selector = SelectFromModel(estimator=regr, threshold='mean', max_features=60).fit(X,y)\n",
    "selector.get_support()"
   ],
   "outputs": [
    {
     "output_type": "execute_result",
     "data": {
      "text/plain": [
       "array([ True,  True,  True,  True,  True,  True,  True,  True,  True,\n",
       "        True,  True,  True,  True,  True,  True,  True,  True,  True,\n",
       "        True,  True,  True,  True,  True,  True,  True,  True,  True,\n",
       "        True,  True,  True,  True,  True,  True,  True,  True,  True,\n",
       "        True,  True,  True,  True,  True,  True,  True,  True,  True,\n",
       "        True,  True,  True,  True,  True,  True,  True,  True,  True,\n",
       "        True,  True,  True,  True,  True,  True, False, False, False,\n",
       "       False, False, False, False, False, False, False, False, False,\n",
       "       False, False, False, False, False, False, False, False, False,\n",
       "       False, False, False, False, False, False, False, False, False,\n",
       "       False, False, False, False, False, False, False, False, False,\n",
       "       False, False, False, False, False, False, False, False, False,\n",
       "       False, False, False, False, False, False, False, False, False,\n",
       "       False, False, False, False, False, False, False, False, False,\n",
       "       False, False, False, False, False, False, False, False, False,\n",
       "       False, False, False, False, False, False, False, False, False,\n",
       "       False, False, False, False, False, False, False, False, False,\n",
       "       False, False, False, False, False, False, False, False, False,\n",
       "       False, False, False, False, False, False, False, False, False,\n",
       "       False, False, False, False, False, False, False, False, False,\n",
       "       False, False, False, False, False, False, False, False, False,\n",
       "       False, False, False, False, False, False, False, False, False,\n",
       "       False, False, False, False, False, False, False, False, False,\n",
       "       False, False, False, False, False, False, False, False, False,\n",
       "       False, False, False, False, False, False, False, False, False,\n",
       "       False, False, False, False, False, False, False, False, False,\n",
       "       False, False, False, False, False, False, False, False, False,\n",
       "       False, False, False, False, False, False, False, False, False,\n",
       "       False, False, False, False, False, False, False, False, False,\n",
       "       False, False, False, False, False, False, False, False, False,\n",
       "       False, False, False])"
      ]
     },
     "metadata": {},
     "execution_count": 63
    }
   ],
   "metadata": {}
  },
  {
   "cell_type": "code",
   "execution_count": 64,
   "source": [
    "X_new = selector.transform(X)\n",
    "print(X_new.shape)"
   ],
   "outputs": [
    {
     "output_type": "stream",
     "name": "stdout",
     "text": [
      "(60, 60)\n"
     ]
    }
   ],
   "metadata": {}
  },
  {
   "cell_type": "code",
   "execution_count": 65,
   "source": [
    "# Train SVM\n",
    "clf = svm.SVC(kernel='rbf', C=1000, gamma='auto')\n",
    "results = cross_validate(clf, X, y, cv=10, return_train_score=True)\n"
   ],
   "outputs": [],
   "metadata": {}
  },
  {
   "cell_type": "code",
   "execution_count": 66,
   "source": [
    "np.mean(results['test_score'])"
   ],
   "outputs": [
    {
     "output_type": "execute_result",
     "data": {
      "text/plain": [
       "0.55"
      ]
     },
     "metadata": {},
     "execution_count": 66
    }
   ],
   "metadata": {}
  },
  {
   "cell_type": "code",
   "execution_count": null,
   "source": [],
   "outputs": [],
   "metadata": {}
  }
 ],
 "metadata": {
  "orig_nbformat": 4,
  "language_info": {
   "name": "python",
   "version": "3.9.6",
   "mimetype": "text/x-python",
   "codemirror_mode": {
    "name": "ipython",
    "version": 3
   },
   "pygments_lexer": "ipython3",
   "nbconvert_exporter": "python",
   "file_extension": ".py"
  },
  "kernelspec": {
   "name": "python3",
   "display_name": "Python 3.9.6 64-bit ('base': conda)"
  },
  "interpreter": {
   "hash": "95ec9ec1504d83f612128e0fb229072f90bbb4cb09d9d5d93b5dd26e0ca2cfd1"
  }
 },
 "nbformat": 4,
 "nbformat_minor": 2
}