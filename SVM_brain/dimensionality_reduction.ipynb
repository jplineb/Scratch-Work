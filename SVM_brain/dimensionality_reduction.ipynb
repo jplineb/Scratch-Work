{
 "cells": [
  {
   "cell_type": "code",
   "execution_count": 1,
   "source": [
    "import pandas as pd\n",
    "import numpy as np\n",
    "import seaborn as sns\n"
   ],
   "outputs": [],
   "metadata": {}
  },
  {
   "cell_type": "markdown",
   "source": [
    "# Import data"
   ],
   "metadata": {}
  },
  {
   "cell_type": "code",
   "execution_count": 2,
   "source": [
    "brain_data = pd.read_csv('./data/eig_centrality.csv', header=None)\n",
    "brain_data.head()"
   ],
   "outputs": [
    {
     "output_type": "execute_result",
     "data": {
      "text/plain": [
       "   0         1         2    3    4    5         6         7    8    9    ...  \\\n",
       "0    1 -0.067894 -0.062832    0    0    0 -0.031240 -0.071004    0    0  ...   \n",
       "1    1  0.031793  0.025996    0    0    0  0.122030  0.109220    0    0  ...   \n",
       "2    1 -0.005251 -0.015806    0    0    0 -0.124040 -0.117020    0    0  ...   \n",
       "3    1  0.123150  0.096576    0    0    0 -0.045236 -0.005143    0    0  ...   \n",
       "4    1 -0.059846 -0.024500    0    0    0 -0.022105  0.022153    0    0  ...   \n",
       "\n",
       "        285       286           287           288       289       290  \\\n",
       "0 -0.112760 -0.106070  0.000000e+00  0.000000e+00 -0.028195 -0.024616   \n",
       "1  0.078364  0.049836  0.000000e+00  6.938900e-18 -0.076947 -0.078418   \n",
       "2  0.021125  0.014470  0.000000e+00 -1.734700e-18  0.068705  0.084321   \n",
       "3 -0.043127 -0.024063  5.551100e-17 -1.110200e-16 -0.064510 -0.100380   \n",
       "4 -0.026404 -0.004397 -4.336800e-19  0.000000e+00 -0.068379  0.006091   \n",
       "\n",
       "        291       292       293       294  \n",
       "0 -0.042535 -0.087451  0.003145 -0.047196  \n",
       "1 -0.064815  0.095082  0.054585  0.076347  \n",
       "2  0.047107  0.004649 -0.142760 -0.129450  \n",
       "3 -0.112950 -0.099919 -0.006036 -0.004228  \n",
       "4 -0.050172  0.056009  0.077894  0.016500  \n",
       "\n",
       "[5 rows x 295 columns]"
      ],
      "text/html": [
       "<div>\n",
       "<style scoped>\n",
       "    .dataframe tbody tr th:only-of-type {\n",
       "        vertical-align: middle;\n",
       "    }\n",
       "\n",
       "    .dataframe tbody tr th {\n",
       "        vertical-align: top;\n",
       "    }\n",
       "\n",
       "    .dataframe thead th {\n",
       "        text-align: right;\n",
       "    }\n",
       "</style>\n",
       "<table border=\"1\" class=\"dataframe\">\n",
       "  <thead>\n",
       "    <tr style=\"text-align: right;\">\n",
       "      <th></th>\n",
       "      <th>0</th>\n",
       "      <th>1</th>\n",
       "      <th>2</th>\n",
       "      <th>3</th>\n",
       "      <th>4</th>\n",
       "      <th>5</th>\n",
       "      <th>6</th>\n",
       "      <th>7</th>\n",
       "      <th>8</th>\n",
       "      <th>9</th>\n",
       "      <th>...</th>\n",
       "      <th>285</th>\n",
       "      <th>286</th>\n",
       "      <th>287</th>\n",
       "      <th>288</th>\n",
       "      <th>289</th>\n",
       "      <th>290</th>\n",
       "      <th>291</th>\n",
       "      <th>292</th>\n",
       "      <th>293</th>\n",
       "      <th>294</th>\n",
       "    </tr>\n",
       "  </thead>\n",
       "  <tbody>\n",
       "    <tr>\n",
       "      <th>0</th>\n",
       "      <td>1</td>\n",
       "      <td>-0.067894</td>\n",
       "      <td>-0.062832</td>\n",
       "      <td>0</td>\n",
       "      <td>0</td>\n",
       "      <td>0</td>\n",
       "      <td>-0.031240</td>\n",
       "      <td>-0.071004</td>\n",
       "      <td>0</td>\n",
       "      <td>0</td>\n",
       "      <td>...</td>\n",
       "      <td>-0.112760</td>\n",
       "      <td>-0.106070</td>\n",
       "      <td>0.000000e+00</td>\n",
       "      <td>0.000000e+00</td>\n",
       "      <td>-0.028195</td>\n",
       "      <td>-0.024616</td>\n",
       "      <td>-0.042535</td>\n",
       "      <td>-0.087451</td>\n",
       "      <td>0.003145</td>\n",
       "      <td>-0.047196</td>\n",
       "    </tr>\n",
       "    <tr>\n",
       "      <th>1</th>\n",
       "      <td>1</td>\n",
       "      <td>0.031793</td>\n",
       "      <td>0.025996</td>\n",
       "      <td>0</td>\n",
       "      <td>0</td>\n",
       "      <td>0</td>\n",
       "      <td>0.122030</td>\n",
       "      <td>0.109220</td>\n",
       "      <td>0</td>\n",
       "      <td>0</td>\n",
       "      <td>...</td>\n",
       "      <td>0.078364</td>\n",
       "      <td>0.049836</td>\n",
       "      <td>0.000000e+00</td>\n",
       "      <td>6.938900e-18</td>\n",
       "      <td>-0.076947</td>\n",
       "      <td>-0.078418</td>\n",
       "      <td>-0.064815</td>\n",
       "      <td>0.095082</td>\n",
       "      <td>0.054585</td>\n",
       "      <td>0.076347</td>\n",
       "    </tr>\n",
       "    <tr>\n",
       "      <th>2</th>\n",
       "      <td>1</td>\n",
       "      <td>-0.005251</td>\n",
       "      <td>-0.015806</td>\n",
       "      <td>0</td>\n",
       "      <td>0</td>\n",
       "      <td>0</td>\n",
       "      <td>-0.124040</td>\n",
       "      <td>-0.117020</td>\n",
       "      <td>0</td>\n",
       "      <td>0</td>\n",
       "      <td>...</td>\n",
       "      <td>0.021125</td>\n",
       "      <td>0.014470</td>\n",
       "      <td>0.000000e+00</td>\n",
       "      <td>-1.734700e-18</td>\n",
       "      <td>0.068705</td>\n",
       "      <td>0.084321</td>\n",
       "      <td>0.047107</td>\n",
       "      <td>0.004649</td>\n",
       "      <td>-0.142760</td>\n",
       "      <td>-0.129450</td>\n",
       "    </tr>\n",
       "    <tr>\n",
       "      <th>3</th>\n",
       "      <td>1</td>\n",
       "      <td>0.123150</td>\n",
       "      <td>0.096576</td>\n",
       "      <td>0</td>\n",
       "      <td>0</td>\n",
       "      <td>0</td>\n",
       "      <td>-0.045236</td>\n",
       "      <td>-0.005143</td>\n",
       "      <td>0</td>\n",
       "      <td>0</td>\n",
       "      <td>...</td>\n",
       "      <td>-0.043127</td>\n",
       "      <td>-0.024063</td>\n",
       "      <td>5.551100e-17</td>\n",
       "      <td>-1.110200e-16</td>\n",
       "      <td>-0.064510</td>\n",
       "      <td>-0.100380</td>\n",
       "      <td>-0.112950</td>\n",
       "      <td>-0.099919</td>\n",
       "      <td>-0.006036</td>\n",
       "      <td>-0.004228</td>\n",
       "    </tr>\n",
       "    <tr>\n",
       "      <th>4</th>\n",
       "      <td>1</td>\n",
       "      <td>-0.059846</td>\n",
       "      <td>-0.024500</td>\n",
       "      <td>0</td>\n",
       "      <td>0</td>\n",
       "      <td>0</td>\n",
       "      <td>-0.022105</td>\n",
       "      <td>0.022153</td>\n",
       "      <td>0</td>\n",
       "      <td>0</td>\n",
       "      <td>...</td>\n",
       "      <td>-0.026404</td>\n",
       "      <td>-0.004397</td>\n",
       "      <td>-4.336800e-19</td>\n",
       "      <td>0.000000e+00</td>\n",
       "      <td>-0.068379</td>\n",
       "      <td>0.006091</td>\n",
       "      <td>-0.050172</td>\n",
       "      <td>0.056009</td>\n",
       "      <td>0.077894</td>\n",
       "      <td>0.016500</td>\n",
       "    </tr>\n",
       "  </tbody>\n",
       "</table>\n",
       "<p>5 rows × 295 columns</p>\n",
       "</div>"
      ]
     },
     "metadata": {},
     "execution_count": 2
    }
   ],
   "metadata": {}
  },
  {
   "cell_type": "markdown",
   "source": [
    "# Data preprocessing"
   ],
   "metadata": {}
  },
  {
   "cell_type": "code",
   "execution_count": 3,
   "source": [
    "# Optional: drop zero columns\n",
    "brain_data = brain_data.loc[:, (brain_data != 0).any(axis=0)]\n",
    "brain_data.head()"
   ],
   "outputs": [
    {
     "output_type": "execute_result",
     "data": {
      "text/plain": [
       "   0         1         2         6         7         10        12        13   \\\n",
       "0    1 -0.067894 -0.062832 -0.031240 -0.071004 -0.030888  0.009534  0.044660   \n",
       "1    1  0.031793  0.025996  0.122030  0.109220 -0.005733  0.017223 -0.072822   \n",
       "2    1 -0.005251 -0.015806 -0.124040 -0.117020 -0.017355 -0.035984  0.106950   \n",
       "3    1  0.123150  0.096576 -0.045236 -0.005143 -0.017959 -0.060064  0.008232   \n",
       "4    1 -0.059846 -0.024500 -0.022105  0.022153  0.079495 -0.013115  0.019867   \n",
       "\n",
       "        14        15   ...       285       286           287           288  \\\n",
       "0  0.043163  0.025440  ... -0.112760 -0.106070  0.000000e+00  0.000000e+00   \n",
       "1 -0.077072 -0.126650  ...  0.078364  0.049836  0.000000e+00  6.938900e-18   \n",
       "2  0.011851  0.077032  ...  0.021125  0.014470  0.000000e+00 -1.734700e-18   \n",
       "3 -0.076910 -0.042061  ... -0.043127 -0.024063  5.551100e-17 -1.110200e-16   \n",
       "4  0.032033  0.012232  ... -0.026404 -0.004397 -4.336800e-19  0.000000e+00   \n",
       "\n",
       "        289       290       291       292       293       294  \n",
       "0 -0.028195 -0.024616 -0.042535 -0.087451  0.003145 -0.047196  \n",
       "1 -0.076947 -0.078418 -0.064815  0.095082  0.054585  0.076347  \n",
       "2  0.068705  0.084321  0.047107  0.004649 -0.142760 -0.129450  \n",
       "3 -0.064510 -0.100380 -0.112950 -0.099919 -0.006036 -0.004228  \n",
       "4 -0.068379  0.006091 -0.050172  0.056009  0.077894  0.016500  \n",
       "\n",
       "[5 rows x 274 columns]"
      ],
      "text/html": [
       "<div>\n",
       "<style scoped>\n",
       "    .dataframe tbody tr th:only-of-type {\n",
       "        vertical-align: middle;\n",
       "    }\n",
       "\n",
       "    .dataframe tbody tr th {\n",
       "        vertical-align: top;\n",
       "    }\n",
       "\n",
       "    .dataframe thead th {\n",
       "        text-align: right;\n",
       "    }\n",
       "</style>\n",
       "<table border=\"1\" class=\"dataframe\">\n",
       "  <thead>\n",
       "    <tr style=\"text-align: right;\">\n",
       "      <th></th>\n",
       "      <th>0</th>\n",
       "      <th>1</th>\n",
       "      <th>2</th>\n",
       "      <th>6</th>\n",
       "      <th>7</th>\n",
       "      <th>10</th>\n",
       "      <th>12</th>\n",
       "      <th>13</th>\n",
       "      <th>14</th>\n",
       "      <th>15</th>\n",
       "      <th>...</th>\n",
       "      <th>285</th>\n",
       "      <th>286</th>\n",
       "      <th>287</th>\n",
       "      <th>288</th>\n",
       "      <th>289</th>\n",
       "      <th>290</th>\n",
       "      <th>291</th>\n",
       "      <th>292</th>\n",
       "      <th>293</th>\n",
       "      <th>294</th>\n",
       "    </tr>\n",
       "  </thead>\n",
       "  <tbody>\n",
       "    <tr>\n",
       "      <th>0</th>\n",
       "      <td>1</td>\n",
       "      <td>-0.067894</td>\n",
       "      <td>-0.062832</td>\n",
       "      <td>-0.031240</td>\n",
       "      <td>-0.071004</td>\n",
       "      <td>-0.030888</td>\n",
       "      <td>0.009534</td>\n",
       "      <td>0.044660</td>\n",
       "      <td>0.043163</td>\n",
       "      <td>0.025440</td>\n",
       "      <td>...</td>\n",
       "      <td>-0.112760</td>\n",
       "      <td>-0.106070</td>\n",
       "      <td>0.000000e+00</td>\n",
       "      <td>0.000000e+00</td>\n",
       "      <td>-0.028195</td>\n",
       "      <td>-0.024616</td>\n",
       "      <td>-0.042535</td>\n",
       "      <td>-0.087451</td>\n",
       "      <td>0.003145</td>\n",
       "      <td>-0.047196</td>\n",
       "    </tr>\n",
       "    <tr>\n",
       "      <th>1</th>\n",
       "      <td>1</td>\n",
       "      <td>0.031793</td>\n",
       "      <td>0.025996</td>\n",
       "      <td>0.122030</td>\n",
       "      <td>0.109220</td>\n",
       "      <td>-0.005733</td>\n",
       "      <td>0.017223</td>\n",
       "      <td>-0.072822</td>\n",
       "      <td>-0.077072</td>\n",
       "      <td>-0.126650</td>\n",
       "      <td>...</td>\n",
       "      <td>0.078364</td>\n",
       "      <td>0.049836</td>\n",
       "      <td>0.000000e+00</td>\n",
       "      <td>6.938900e-18</td>\n",
       "      <td>-0.076947</td>\n",
       "      <td>-0.078418</td>\n",
       "      <td>-0.064815</td>\n",
       "      <td>0.095082</td>\n",
       "      <td>0.054585</td>\n",
       "      <td>0.076347</td>\n",
       "    </tr>\n",
       "    <tr>\n",
       "      <th>2</th>\n",
       "      <td>1</td>\n",
       "      <td>-0.005251</td>\n",
       "      <td>-0.015806</td>\n",
       "      <td>-0.124040</td>\n",
       "      <td>-0.117020</td>\n",
       "      <td>-0.017355</td>\n",
       "      <td>-0.035984</td>\n",
       "      <td>0.106950</td>\n",
       "      <td>0.011851</td>\n",
       "      <td>0.077032</td>\n",
       "      <td>...</td>\n",
       "      <td>0.021125</td>\n",
       "      <td>0.014470</td>\n",
       "      <td>0.000000e+00</td>\n",
       "      <td>-1.734700e-18</td>\n",
       "      <td>0.068705</td>\n",
       "      <td>0.084321</td>\n",
       "      <td>0.047107</td>\n",
       "      <td>0.004649</td>\n",
       "      <td>-0.142760</td>\n",
       "      <td>-0.129450</td>\n",
       "    </tr>\n",
       "    <tr>\n",
       "      <th>3</th>\n",
       "      <td>1</td>\n",
       "      <td>0.123150</td>\n",
       "      <td>0.096576</td>\n",
       "      <td>-0.045236</td>\n",
       "      <td>-0.005143</td>\n",
       "      <td>-0.017959</td>\n",
       "      <td>-0.060064</td>\n",
       "      <td>0.008232</td>\n",
       "      <td>-0.076910</td>\n",
       "      <td>-0.042061</td>\n",
       "      <td>...</td>\n",
       "      <td>-0.043127</td>\n",
       "      <td>-0.024063</td>\n",
       "      <td>5.551100e-17</td>\n",
       "      <td>-1.110200e-16</td>\n",
       "      <td>-0.064510</td>\n",
       "      <td>-0.100380</td>\n",
       "      <td>-0.112950</td>\n",
       "      <td>-0.099919</td>\n",
       "      <td>-0.006036</td>\n",
       "      <td>-0.004228</td>\n",
       "    </tr>\n",
       "    <tr>\n",
       "      <th>4</th>\n",
       "      <td>1</td>\n",
       "      <td>-0.059846</td>\n",
       "      <td>-0.024500</td>\n",
       "      <td>-0.022105</td>\n",
       "      <td>0.022153</td>\n",
       "      <td>0.079495</td>\n",
       "      <td>-0.013115</td>\n",
       "      <td>0.019867</td>\n",
       "      <td>0.032033</td>\n",
       "      <td>0.012232</td>\n",
       "      <td>...</td>\n",
       "      <td>-0.026404</td>\n",
       "      <td>-0.004397</td>\n",
       "      <td>-4.336800e-19</td>\n",
       "      <td>0.000000e+00</td>\n",
       "      <td>-0.068379</td>\n",
       "      <td>0.006091</td>\n",
       "      <td>-0.050172</td>\n",
       "      <td>0.056009</td>\n",
       "      <td>0.077894</td>\n",
       "      <td>0.016500</td>\n",
       "    </tr>\n",
       "  </tbody>\n",
       "</table>\n",
       "<p>5 rows × 274 columns</p>\n",
       "</div>"
      ]
     },
     "metadata": {},
     "execution_count": 3
    }
   ],
   "metadata": {}
  },
  {
   "cell_type": "markdown",
   "source": [
    "# PCA\n",
    "\n",
    "This might not be the best approach because we have the one hot encoded categorical variable (binary classification)\n",
    "\n",
    "By applying PCA, we lose some of the variance (i.e., information). By reducing the dimensionality of the data, PCA will reduce the size of the data.\n",
    " - This will improve the performance of machine learning algorithms.\n",
    " - This will reduce hardware requirements and speed up the training process.\n",
    " - This will allow us to easily understand the underlying structure of the data.\n",
    " - This will allow us to visualize the data on a 2d or 3d plot (if we choose the number of principal components as 2 or 3)."
   ],
   "metadata": {}
  },
  {
   "cell_type": "markdown",
   "source": [
    "## Exploratory work"
   ],
   "metadata": {}
  },
  {
   "cell_type": "code",
   "execution_count": 4,
   "source": [
    "# Get feature matrix\n",
    "X = brain_data.iloc[:,1:].values\n",
    "y = brain_data.iloc[:,0].values\n",
    "print(X)\n",
    "print(y)"
   ],
   "outputs": [
    {
     "output_type": "stream",
     "name": "stdout",
     "text": [
      "[[-6.7894e-02 -6.2832e-02 -3.1240e-02 ... -8.7451e-02  3.1445e-03\n",
      "  -4.7196e-02]\n",
      " [ 3.1793e-02  2.5996e-02  1.2203e-01 ...  9.5082e-02  5.4585e-02\n",
      "   7.6347e-02]\n",
      " [-5.2506e-03 -1.5806e-02 -1.2404e-01 ...  4.6495e-03 -1.4276e-01\n",
      "  -1.2945e-01]\n",
      " ...\n",
      " [ 2.6920e-03 -1.4674e-02  1.0568e-01 ...  3.7322e-02  8.6381e-02\n",
      "   9.1878e-02]\n",
      " [-6.3993e-02 -2.5404e-02  4.5130e-02 ...  6.4920e-05 -5.0832e-03\n",
      "  -1.0966e-02]\n",
      " [-2.8025e-03 -6.5748e-02  1.1062e-01 ... -1.5098e-02  1.2126e-01\n",
      "   8.5409e-02]]\n",
      "[1 1 1 1 1 1 1 1 1 1 1 1 1 1 1 1 1 1 1 1 1 1 1 1 1 1 1 1 1 1 1 0 0 0 0 0 0\n",
      " 0 0 0 0 0 0 0 0 0 0 0 0 0 0 0 0 0 0 0 0 0 0 0]\n"
     ]
    }
   ],
   "metadata": {}
  },
  {
   "cell_type": "code",
   "execution_count": 5,
   "source": [
    "# Optional: Standardize the features\n",
    "from sklearn.preprocessing import StandardScaler\n",
    "\n",
    "## Create object\n",
    "scaler = StandardScaler()\n",
    "## Calculate mean and std\n",
    "scaler.fit(X)\n",
    "## Transform the values\n",
    "X_scaled = scaler.transform(X)"
   ],
   "outputs": [],
   "metadata": {}
  },
  {
   "cell_type": "code",
   "execution_count": 6,
   "source": [
    "X_scaled"
   ],
   "outputs": [
    {
     "output_type": "execute_result",
     "data": {
      "text/plain": [
       "array([[-0.99040396, -1.04567513, -0.2574618 , ..., -1.68464325,\n",
       "         0.11618804, -0.65112483],\n",
       "       [ 0.49798482,  0.43177739,  1.95851501, ...,  2.0075361 ,\n",
       "         0.93079808,  1.4537202 ],\n",
       "       [-0.05509912, -0.26350417, -1.59916368, ...,  0.17831613,\n",
       "        -2.19435075, -2.05251482],\n",
       "       ...,\n",
       "       [ 0.06348883, -0.24467591,  1.7221268 , ...,  0.83919789,\n",
       "         1.43431847,  1.71832725],\n",
       "       [-0.93215961, -0.42314515,  0.84669524, ...,  0.08558171,\n",
       "        -0.01410554, -0.03386173],\n",
       "       [-0.01854746, -1.09417618,  1.79354929, ..., -0.22112568,\n",
       "         1.98666115,  1.60811265]])"
      ]
     },
     "metadata": {},
     "execution_count": 6
    }
   ],
   "metadata": {}
  },
  {
   "cell_type": "code",
   "execution_count": 7,
   "source": [
    "# apply PCA to all dimensions\n",
    "from sklearn.decomposition import PCA\n",
    "pca_60 = PCA(n_components=60, random_state=42)\n",
    "pca_60.fit(X_scaled)\n",
    "X_pca_60 = pca_60.transform(X_scaled)\n",
    "print('Variance explained by all 60 principal components = ', sum(pca_60.explained_variance_ratio_ * 100))"
   ],
   "outputs": [
    {
     "output_type": "stream",
     "name": "stdout",
     "text": [
      "Variance explained by all 60 principal components =  99.99999999999997\n"
     ]
    }
   ],
   "metadata": {}
  },
  {
   "cell_type": "code",
   "execution_count": 8,
   "source": [
    "# The explained_variance_ratio_ attribute of the PCA() class returns\n",
    "# a one-dimensional numpy array which contains the values of the\n",
    "# percentage of variance explained by each of the selected components.\n",
    "pca_60.explained_variance_ratio_ * 100"
   ],
   "outputs": [
    {
     "output_type": "execute_result",
     "data": {
      "text/plain": [
       "array([2.59975473e+01, 1.27918210e+01, 9.35485108e+00, 6.63703361e+00,\n",
       "       4.78961028e+00, 3.67486653e+00, 2.81412581e+00, 2.47085484e+00,\n",
       "       2.25369908e+00, 1.95699706e+00, 1.72252182e+00, 1.45942950e+00,\n",
       "       1.33707248e+00, 1.29905339e+00, 1.18769281e+00, 1.15058586e+00,\n",
       "       1.03287243e+00, 9.48065441e-01, 9.20433277e-01, 8.70535634e-01,\n",
       "       8.33650147e-01, 8.03077815e-01, 7.84734702e-01, 7.41623817e-01,\n",
       "       6.61276893e-01, 6.42233980e-01, 6.23357752e-01, 5.97073433e-01,\n",
       "       5.91577460e-01, 5.46454314e-01, 5.40319052e-01, 5.06626816e-01,\n",
       "       4.85049167e-01, 4.55310525e-01, 4.27236085e-01, 4.05024750e-01,\n",
       "       4.02204079e-01, 3.85540119e-01, 3.80616470e-01, 3.70435621e-01,\n",
       "       3.34178155e-01, 3.17632003e-01, 3.08623537e-01, 2.94555314e-01,\n",
       "       2.69555043e-01, 2.65071036e-01, 2.40554622e-01, 2.34906840e-01,\n",
       "       2.24758010e-01, 2.17130061e-01, 2.05723039e-01, 1.85459986e-01,\n",
       "       1.79234819e-01, 1.66913132e-01, 1.56353157e-01, 1.52358589e-01,\n",
       "       1.40829523e-01, 1.37556012e-01, 1.15514898e-01, 5.12711217e-30])"
      ]
     },
     "metadata": {},
     "execution_count": 8
    }
   ],
   "metadata": {}
  },
  {
   "cell_type": "code",
   "execution_count": 10,
   "source": [
    "# or look at the cumulutive sum as we add more componenets\n",
    "np.cumsum(pca_60.explained_variance_ratio_ * 100)"
   ],
   "outputs": [
    {
     "output_type": "execute_result",
     "data": {
      "text/plain": [
       "array([ 25.99754727,  38.78936828,  48.14421936,  54.78125296,\n",
       "        59.57086325,  63.24572978,  66.05985559,  68.53071043,\n",
       "        70.78440951,  72.74140657,  74.46392839,  75.9233579 ,\n",
       "        77.26043038,  78.55948377,  79.74717659,  80.89776245,\n",
       "        81.93063487,  82.87870032,  83.79913359,  84.66966923,\n",
       "        85.50331937,  86.30639719,  87.09113189,  87.83275571,\n",
       "        88.4940326 ,  89.13626658,  89.75962433,  90.35669777,\n",
       "        90.94827523,  91.49472954,  92.03504859,  92.54167541,\n",
       "        93.02672457,  93.4820351 ,  93.90927119,  94.31429594,\n",
       "        94.71650001,  95.10204013,  95.4826566 ,  95.85309223,\n",
       "        96.18727038,  96.50490238,  96.81352592,  97.10808123,\n",
       "        97.37763628,  97.64270731,  97.88326193,  98.11816878,\n",
       "        98.34292678,  98.56005685,  98.76577988,  98.95123987,\n",
       "        99.13047469,  99.29738782,  99.45374098,  99.60609957,\n",
       "        99.74692909,  99.8844851 , 100.        , 100.        ])"
      ]
     },
     "metadata": {},
     "execution_count": 10
    }
   ],
   "metadata": {}
  },
  {
   "cell_type": "code",
   "execution_count": 11,
   "source": [
    "'''\n",
    "It's incorrect to use PCA on the Y variable\n",
    "'''\n",
    "# # Leave X and Y in and don't standardize\n",
    "# X = brain_data.values\n",
    "# print(X.shape)\n",
    "\n",
    "# # apply PCA to all dimensions\n",
    "# pca_60 = PCA(n_components=60, random_state=42)\n",
    "# pca_60.fit(X)\n",
    "# X_pca_60 = pca_60.transform(X)\n",
    "# print('Variance explained by all 60 principal components = ', sum(pca_60.explained_variance_ratio_ * 100))\n",
    "# print(pca_60.explained_variance_ratio_ * 100)"
   ],
   "outputs": [
    {
     "output_type": "execute_result",
     "data": {
      "text/plain": [
       "\"\\nIt's incorrect to use PCA on the Y variable\\n\""
      ]
     },
     "metadata": {},
     "execution_count": 11
    }
   ],
   "metadata": {}
  },
  {
   "cell_type": "code",
   "execution_count": 12,
   "source": [
    "'''\n",
    "Already Done above\n",
    "'''\n",
    "# # What if we just use the X and leave out the categorical variable?\n",
    "# X = brain_data.iloc[:,1:].values\n",
    "# print(X.shape)\n",
    "# ## Create object\n",
    "# scaler = StandardScaler()\n",
    "# ## Calculate mean and std\n",
    "# scaler.fit(X)\n",
    "# ## Transform the values\n",
    "# X_scaled = scaler.transform(X)\n",
    "\n",
    "# # apply PCA to all dimensions\n",
    "# pca_60_justx = PCA(n_components=60, random_state=42)\n",
    "# pca_60_justx.fit(X_scaled)\n",
    "# X_pca_60 = pca_60_justx.transform(X_scaled)\n",
    "# print('Variance explained by all 60 principal components = ', sum(pca_60_justx.explained_variance_ratio_ * 100))\n",
    "# print(pca_60_justx.explained_variance_ratio_ * 100)"
   ],
   "outputs": [
    {
     "output_type": "execute_result",
     "data": {
      "text/plain": [
       "'\\nAlready Done above\\n'"
      ]
     },
     "metadata": {},
     "execution_count": 12
    }
   ],
   "metadata": {}
  },
  {
   "cell_type": "code",
   "execution_count": 13,
   "source": [
    "# What if we just use the X and not scale \n",
    "X = brain_data.iloc[:,1:].values\n",
    "print(X.shape)\n",
    "# apply PCA to all dimensions\n",
    "pca_60_justx = PCA(n_components=60, random_state=42)\n",
    "pca_60_justx.fit(X)\n",
    "X_pca_60 = pca_60_justx.transform(X)\n",
    "print('Variance explained by all 60 principal components = ', sum(pca_60_justx.explained_variance_ratio_ * 100))\n",
    "print(pca_60_justx.explained_variance_ratio_ * 100)\n",
    "np.cumsum(pca_60_justx.explained_variance_ratio_ * 100)"
   ],
   "outputs": [
    {
     "output_type": "stream",
     "name": "stdout",
     "text": [
      "(60, 273)\n",
      "Variance explained by all 60 principal components =  100.00000000000001\n",
      "[3.08401247e+01 1.36832266e+01 8.86041715e+00 6.73224718e+00\n",
      " 3.92570628e+00 3.25716309e+00 2.62305179e+00 2.10346986e+00\n",
      " 1.95442231e+00 1.69346556e+00 1.62997228e+00 1.33043129e+00\n",
      " 1.19194568e+00 1.13889867e+00 1.11098998e+00 9.89226434e-01\n",
      " 9.23090410e-01 8.79672312e-01 8.04543058e-01 7.66966814e-01\n",
      " 7.32158085e-01 6.95247262e-01 6.58202356e-01 6.39522245e-01\n",
      " 6.13096709e-01 5.95445835e-01 5.60188733e-01 5.43589574e-01\n",
      " 5.13235675e-01 4.60903066e-01 4.54490528e-01 4.47794175e-01\n",
      " 4.21259323e-01 4.01435707e-01 3.80009387e-01 3.61660059e-01\n",
      " 3.55708575e-01 3.39745462e-01 3.36965106e-01 3.21493102e-01\n",
      " 3.04312190e-01 2.77058158e-01 2.72082934e-01 2.57085629e-01\n",
      " 2.39867803e-01 2.31756902e-01 2.20688301e-01 2.14052121e-01\n",
      " 2.07297836e-01 1.91406679e-01 1.80472512e-01 1.68442029e-01\n",
      " 1.62971832e-01 1.54763021e-01 1.46707797e-01 1.39108601e-01\n",
      " 1.29629620e-01 1.28302743e-01 1.02810922e-01 6.08214216e-30]\n"
     ]
    },
    {
     "output_type": "execute_result",
     "data": {
      "text/plain": [
       "array([ 30.84012466,  44.52335128,  53.38376843,  60.11601561,\n",
       "        64.04172189,  67.29888497,  69.92193676,  72.02540662,\n",
       "        73.97982892,  75.67329448,  77.30326676,  78.63369805,\n",
       "        79.82564373,  80.9645424 ,  82.07553238,  83.06475882,\n",
       "        83.98784923,  84.86752154,  85.6720646 ,  86.43903141,\n",
       "        87.1711895 ,  87.86643676,  88.52463911,  89.16416136,\n",
       "        89.77725807,  90.3727039 ,  90.93289263,  91.47648221,\n",
       "        91.98971788,  92.45062095,  92.90511148,  93.35290565,\n",
       "        93.77416497,  94.17560068,  94.55561007,  94.91727013,\n",
       "        95.2729787 ,  95.61272416,  95.94968927,  96.27118237,\n",
       "        96.57549456,  96.85255272,  97.12463565,  97.38172128,\n",
       "        97.62158908,  97.85334599,  98.07403429,  98.28808641,\n",
       "        98.49538424,  98.68679092,  98.86726344,  99.03570546,\n",
       "        99.1986773 ,  99.35344032,  99.50014811,  99.63925671,\n",
       "        99.76888633,  99.89718908, 100.        , 100.        ])"
      ]
     },
     "metadata": {},
     "execution_count": 13
    }
   ],
   "metadata": {}
  },
  {
   "cell_type": "markdown",
   "source": [
    "## Reducing the number of features meaningfully"
   ],
   "metadata": {}
  },
  {
   "cell_type": "code",
   "execution_count": 14,
   "source": [
    "# Get X values\n",
    "X = brain_data.iloc[:,1:].values\n",
    "\n",
    "pca_95per = PCA(n_components=0.95, random_state=42)\n",
    "pca_95per.fit(X)\n",
    "X_pca_95per = pca_95per.transform(X)\n",
    "print('Number of principal Componenets', len(pca_95per.explained_variance_ratio_))\n",
    "print(pca_95per.explained_variance_ratio_ * 100)\n",
    "np.cumsum(pca_95per.explained_variance_ratio_ * 100)"
   ],
   "outputs": [
    {
     "output_type": "stream",
     "name": "stdout",
     "text": [
      "Number of principal Componenets 37\n",
      "[30.84012466 13.68322661  8.86041715  6.73224718  3.92570628  3.25716309\n",
      "  2.62305179  2.10346986  1.95442231  1.69346556  1.62997228  1.33043129\n",
      "  1.19194568  1.13889867  1.11098998  0.98922643  0.92309041  0.87967231\n",
      "  0.80454306  0.76696681  0.73215808  0.69524726  0.65820236  0.63952224\n",
      "  0.61309671  0.59544583  0.56018873  0.54358957  0.51323567  0.46090307\n",
      "  0.45449053  0.44779417  0.42125932  0.40143571  0.38000939  0.36166006\n",
      "  0.35570857]\n"
     ]
    },
    {
     "output_type": "execute_result",
     "data": {
      "text/plain": [
       "array([30.84012466, 44.52335128, 53.38376843, 60.11601561, 64.04172189,\n",
       "       67.29888497, 69.92193676, 72.02540662, 73.97982892, 75.67329448,\n",
       "       77.30326676, 78.63369805, 79.82564373, 80.9645424 , 82.07553238,\n",
       "       83.06475882, 83.98784923, 84.86752154, 85.6720646 , 86.43903141,\n",
       "       87.1711895 , 87.86643676, 88.52463911, 89.16416136, 89.77725807,\n",
       "       90.3727039 , 90.93289263, 91.47648221, 91.98971788, 92.45062095,\n",
       "       92.90511148, 93.35290565, 93.77416497, 94.17560068, 94.55561007,\n",
       "       94.91727013, 95.2729787 ])"
      ]
     },
     "metadata": {},
     "execution_count": 14
    }
   ],
   "metadata": {}
  },
  {
   "cell_type": "markdown",
   "source": [
    "## For Fun: Logistic Regression and SVM\n"
   ],
   "metadata": {}
  },
  {
   "cell_type": "code",
   "execution_count": 15,
   "source": [
    "from sklearn.linear_model import LogisticRegression\n",
    "from sklearn.decomposition import PCA\n",
    "from sklearn.model_selection import train_test_split\n",
    "from sklearn import svm\n",
    "\n",
    "# Get X and y values\n",
    "X = brain_data.iloc[:,1:].values\n",
    "y = brain_data.iloc[:,0].values\n",
    "print(X.shape)\n",
    "print(y.shape)\n",
    "\n",
    "# Create train-test split\n",
    "X_train, X_test, y_train, y_test = train_test_split(X, y, test_size=0.2, random_state=42)\n",
    "## Verify\n",
    "print(X_train.shape)\n",
    "print(y_train.shape)\n",
    "\n",
    "# Initialize pca, logistic regression model, and SVM\n",
    "pca = PCA(n_components=0.99, random_state=42)\n",
    "lr = LogisticRegression(multi_class='auto', solver='liblinear')\n",
    "clf = svm.SVC(kernel='rbf')\n",
    "\n",
    "# Fit and transform data\n",
    "X_train_pca = pca.fit_transform(X_train)\n",
    "X_test_pca = pca.transform(X_test)\n",
    "lr.fit(X_train_pca, y_train)\n",
    "clf.fit(X_train_pca, y_train)\n",
    "\n",
    "# Get Results\n",
    "print('-------------')\n",
    "print('Logistic Regression')\n",
    "train_score = lr.score(X_train_pca, y_train)\n",
    "print(f'Train Accuracy: {train_score}')\n",
    "test_score = lr.score(X_test_pca, y_test)\n",
    "print(f'Test Accuracy: {test_score}')\n",
    "print('-------------')\n",
    "print('SVM')\n",
    "train_score = clf.score(X_train_pca, y_train)\n",
    "print(f'Train Accuracy: {train_score}')\n",
    "test_score = clf.score(X_test_pca, y_test)\n",
    "print(f'Test Accuracy: {test_score}')\n",
    "print('--------------')\n",
    "\n"
   ],
   "outputs": [
    {
     "output_type": "stream",
     "name": "stdout",
     "text": [
      "(60, 273)\n",
      "(60,)\n",
      "(48, 273)\n",
      "(48,)\n",
      "-------------\n",
      "Logistic Regression\n",
      "Train Accuracy: 0.7916666666666666\n",
      "Test Accuracy: 0.4166666666666667\n",
      "-------------\n",
      "SVM\n",
      "Train Accuracy: 0.9375\n",
      "Test Accuracy: 0.4166666666666667\n",
      "--------------\n"
     ]
    }
   ],
   "metadata": {}
  },
  {
   "cell_type": "markdown",
   "source": [
    "# Model Testing"
   ],
   "metadata": {}
  },
  {
   "cell_type": "code",
   "execution_count": 16,
   "source": [
    "from sklearn.ensemble import AdaBoostClassifier, GradientBoostingClassifier, RandomForestClassifier\n",
    "from sklearn.tree import DecisionTreeClassifier\n",
    "from sklearn import svm\n",
    "import time\n",
    "\n",
    "# Get X and y values\n",
    "X = brain_data.iloc[:,1:].values\n",
    "y = brain_data.iloc[:,0].values\n",
    "print(X.shape)\n",
    "print(y.shape)\n",
    "\n",
    "# Create train-test split\n",
    "X_train, X_test, y_train, y_test = train_test_split(X, y, test_size=0.1, random_state=2021)\n",
    "## Verify\n",
    "print(X_train.shape)\n",
    "print(y_train.shape)\n",
    "\n",
    "# Initialize pca, logistic regression model, and SVM\n",
    "pca = PCA(n_components=0.95, random_state=42)\n",
    "models = [AdaBoostClassifier(),\n",
    "         GradientBoostingClassifier(),\n",
    "         RandomForestClassifier(), \n",
    "         DecisionTreeClassifier(),\n",
    "         svm.SVC(kernel='rbf')]\n",
    "\n",
    "# Fit and transform data\n",
    "X_train_pca = pca.fit_transform(X_train)\n",
    "X_test_pca = pca.transform(X_test)\n",
    "\n",
    "print('#### PCA Performance ####')\n",
    "for model in models:\n",
    "    print('-----------------')\n",
    "    print(f'{model} being used')\n",
    "    model.fit(X_train_pca, y_train)\n",
    "    train_score = model.score(X_train_pca, y_train)\n",
    "    print(f'Train Accuracy: {train_score}')\n",
    "    test_score = model.score(X_test_pca, y_test)\n",
    "    print(f'Test Accuracy: {test_score}')\n",
    "    time.sleep(3)\n",
    "\n",
    "print('#### Full data Performance ####')\n",
    "for model in models:\n",
    "    print('-----------------')\n",
    "    print(f'{model} being used')\n",
    "    model.fit(X_train, y_train)\n",
    "    train_score = model.score(X_train, y_train)\n",
    "    print(f'Train Accuracy: {train_score}')\n",
    "    test_score = model.score(X_test, y_test)\n",
    "    print(f'Test Accuracy: {test_score}')\n",
    "    time.sleep(3)"
   ],
   "outputs": [
    {
     "output_type": "stream",
     "name": "stdout",
     "text": [
      "(60, 273)\n",
      "(60,)\n",
      "(54, 273)\n",
      "(54,)\n",
      "#### PCA Performance ####\n",
      "-----------------\n",
      "AdaBoostClassifier() being used\n",
      "Train Accuracy: 1.0\n",
      "Test Accuracy: 0.5\n",
      "-----------------\n",
      "GradientBoostingClassifier() being used\n",
      "Train Accuracy: 1.0\n",
      "Test Accuracy: 0.5\n",
      "-----------------\n",
      "RandomForestClassifier() being used\n",
      "Train Accuracy: 1.0\n",
      "Test Accuracy: 0.5\n",
      "-----------------\n",
      "DecisionTreeClassifier() being used\n",
      "Train Accuracy: 1.0\n",
      "Test Accuracy: 0.5\n",
      "-----------------\n",
      "SVC() being used\n",
      "Train Accuracy: 0.9074074074074074\n",
      "Test Accuracy: 0.8333333333333334\n",
      "#### Full data Performance ####\n",
      "-----------------\n",
      "AdaBoostClassifier() being used\n",
      "Train Accuracy: 1.0\n",
      "Test Accuracy: 0.3333333333333333\n",
      "-----------------\n",
      "GradientBoostingClassifier() being used\n",
      "Train Accuracy: 1.0\n",
      "Test Accuracy: 0.5\n",
      "-----------------\n",
      "RandomForestClassifier() being used\n",
      "Train Accuracy: 1.0\n",
      "Test Accuracy: 0.8333333333333334\n",
      "-----------------\n",
      "DecisionTreeClassifier() being used\n",
      "Train Accuracy: 1.0\n",
      "Test Accuracy: 0.3333333333333333\n",
      "-----------------\n",
      "SVC() being used\n",
      "Train Accuracy: 0.9259259259259259\n",
      "Test Accuracy: 0.8333333333333334\n"
     ]
    }
   ],
   "metadata": {}
  },
  {
   "cell_type": "markdown",
   "source": [
    "## Cross validation"
   ],
   "metadata": {}
  },
  {
   "cell_type": "code",
   "execution_count": 19,
   "source": [
    "from sklearn.ensemble import AdaBoostClassifier, GradientBoostingClassifier, RandomForestClassifier, ExtraTreesClassifier\n",
    "from sklearn.tree import DecisionTreeClassifier\n",
    "from sklearn import svm\n",
    "from sklearn.linear_model import SGDClassifier\n",
    "from sklearn.model_selection import KFold, cross_validate\n",
    "import time\n",
    "\n",
    "# Get X and y values\n",
    "X = brain_data.iloc[:,1:].values\n",
    "y = brain_data.iloc[:,0].values\n",
    "print(X.shape)\n",
    "print(y.shape)\n",
    "\n",
    "# Initialize pca, logistic regression model, and SVM\n",
    "pca = PCA(n_components=0.95, random_state=42)\n",
    "models = [AdaBoostClassifier(),\n",
    "         GradientBoostingClassifier(),\n",
    "         RandomForestClassifier(), \n",
    "         DecisionTreeClassifier(),\n",
    "         ExtraTreesClassifier(),\n",
    "         svm.SVC(kernel='rbf'),\n",
    "         SGDClassifier()\n",
    "         ]\n",
    "\n",
    "# Fit and transform data\n",
    "X_pca = pca.fit_transform(X)\n",
    "\n",
    "# Initialize Folds\n",
    "k_fold = KFold( n_splits=10,\n",
    "                shuffle=True,\n",
    "                random_state= 2021)\n",
    "\n",
    "print('#### PCA Performance ####')\n",
    "for model in models:\n",
    "    print('-----------------')\n",
    "    print(f'{model} being used')\n",
    "    results = cross_validate(model, X_pca, y, cv=k_fold, return_train_score=True)\n",
    "    train_score = results['train_score']\n",
    "    test_score = results['test_score']\n",
    "    print(f'train scores: {train_score}')\n",
    "    print(f'test scores: {test_score}')\n",
    "    del results\n",
    "    del model\n",
    "    time.sleep(2)\n",
    "print('---------------------------------')\n",
    "print('#### Full data Performance ####')\n",
    "for model in models:\n",
    "    print('-----------------')\n",
    "    print(f'{model} being used')\n",
    "    results = cross_validate(model, X, y, cv=k_fold, return_train_score=True)\n",
    "    train_score = results['train_score']\n",
    "    test_score = results['test_score']\n",
    "    print(f'train scores: {train_score}')\n",
    "    print(f'test scores: {test_score}')\n",
    "    del results\n",
    "    del model\n",
    "    time.sleep(2)"
   ],
   "outputs": [
    {
     "output_type": "error",
     "ename": "ModuleNotFoundError",
     "evalue": "No module named 'xgboost'",
     "traceback": [
      "\u001b[0;31m---------------------------------------------------------------------------\u001b[0m",
      "\u001b[0;31mModuleNotFoundError\u001b[0m                       Traceback (most recent call last)",
      "\u001b[0;32m/var/folders/k4/lgyk0lns2bg5fy096kcxrvfc0000gn/T/ipykernel_52729/4226554264.py\u001b[0m in \u001b[0;36m<module>\u001b[0;34m\u001b[0m\n\u001b[1;32m      4\u001b[0m \u001b[0;32mfrom\u001b[0m \u001b[0msklearn\u001b[0m\u001b[0;34m.\u001b[0m\u001b[0mlinear_model\u001b[0m \u001b[0;32mimport\u001b[0m \u001b[0mSGDClassifier\u001b[0m\u001b[0;34m\u001b[0m\u001b[0;34m\u001b[0m\u001b[0m\n\u001b[1;32m      5\u001b[0m \u001b[0;32mfrom\u001b[0m \u001b[0msklearn\u001b[0m\u001b[0;34m.\u001b[0m\u001b[0mmodel_selection\u001b[0m \u001b[0;32mimport\u001b[0m \u001b[0mKFold\u001b[0m\u001b[0;34m,\u001b[0m \u001b[0mcross_validate\u001b[0m\u001b[0;34m\u001b[0m\u001b[0;34m\u001b[0m\u001b[0m\n\u001b[0;32m----> 6\u001b[0;31m \u001b[0;32mfrom\u001b[0m \u001b[0mxgboost\u001b[0m \u001b[0;32mimport\u001b[0m \u001b[0mXGBClassifier\u001b[0m\u001b[0;34m\u001b[0m\u001b[0;34m\u001b[0m\u001b[0m\n\u001b[0m\u001b[1;32m      7\u001b[0m \u001b[0;32mimport\u001b[0m \u001b[0mtime\u001b[0m\u001b[0;34m\u001b[0m\u001b[0;34m\u001b[0m\u001b[0m\n\u001b[1;32m      8\u001b[0m \u001b[0;34m\u001b[0m\u001b[0m\n",
      "\u001b[0;31mModuleNotFoundError\u001b[0m: No module named 'xgboost'"
     ]
    }
   ],
   "metadata": {}
  },
  {
   "cell_type": "markdown",
   "source": [
    "# PLS"
   ],
   "metadata": {}
  },
  {
   "cell_type": "markdown",
   "source": [
    "# LDA"
   ],
   "metadata": {}
  },
  {
   "cell_type": "markdown",
   "source": [
    "# Random Projection"
   ],
   "metadata": {}
  },
  {
   "cell_type": "markdown",
   "source": [
    "# Auto Encoder"
   ],
   "metadata": {}
  }
 ],
 "metadata": {
  "orig_nbformat": 4,
  "language_info": {
   "name": "python",
   "version": "3.9.6",
   "mimetype": "text/x-python",
   "codemirror_mode": {
    "name": "ipython",
    "version": 3
   },
   "pygments_lexer": "ipython3",
   "nbconvert_exporter": "python",
   "file_extension": ".py"
  },
  "kernelspec": {
   "name": "python3",
   "display_name": "Python 3.9.6 64-bit ('base': conda)"
  },
  "interpreter": {
   "hash": "95ec9ec1504d83f612128e0fb229072f90bbb4cb09d9d5d93b5dd26e0ca2cfd1"
  }
 },
 "nbformat": 4,
 "nbformat_minor": 2
}