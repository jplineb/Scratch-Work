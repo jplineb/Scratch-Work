{
 "cells": [
  {
   "cell_type": "markdown",
   "source": [
    "# Imports"
   ],
   "metadata": {}
  },
  {
   "cell_type": "code",
   "execution_count": 1,
   "source": [
    "from sklearn import svm\n",
    "import numpy as np\n",
    "import matplotlib.pyplot as plt"
   ],
   "outputs": [],
   "metadata": {}
  },
  {
   "cell_type": "markdown",
   "source": [
    "# Information on Support vector machines\n",
    "[sklearn website](https://scikit-learn.org/stable/modules/svm.html#svm-kernels)"
   ],
   "metadata": {}
  },
  {
   "cell_type": "markdown",
   "source": [
    "# Create some fake data"
   ],
   "metadata": {}
  },
  {
   "cell_type": "code",
   "execution_count": 2,
   "source": [
    "X = np.random.rand(20)\n",
    "print(X)"
   ],
   "outputs": [
    {
     "output_type": "stream",
     "name": "stdout",
     "text": [
      "[0.00308122 0.25865966 0.83600584 0.34755135 0.46534994 0.6492493\n",
      " 0.16142487 0.52242716 0.66373048 0.0580653  0.65593346 0.84373899\n",
      " 0.1540254  0.77479057 0.40662182 0.13985343 0.54261936 0.5815225\n",
      " 0.57731462 0.74569474]\n"
     ]
    }
   ],
   "metadata": {}
  },
  {
   "cell_type": "code",
   "execution_count": 3,
   "source": [
    "## reshape data for fitting model\n",
    "X = X.reshape(-1,1)\n",
    "print(X)"
   ],
   "outputs": [
    {
     "output_type": "stream",
     "name": "stdout",
     "text": [
      "[[0.00308122]\n",
      " [0.25865966]\n",
      " [0.83600584]\n",
      " [0.34755135]\n",
      " [0.46534994]\n",
      " [0.6492493 ]\n",
      " [0.16142487]\n",
      " [0.52242716]\n",
      " [0.66373048]\n",
      " [0.0580653 ]\n",
      " [0.65593346]\n",
      " [0.84373899]\n",
      " [0.1540254 ]\n",
      " [0.77479057]\n",
      " [0.40662182]\n",
      " [0.13985343]\n",
      " [0.54261936]\n",
      " [0.5815225 ]\n",
      " [0.57731462]\n",
      " [0.74569474]]\n"
     ]
    }
   ],
   "metadata": {}
  },
  {
   "cell_type": "code",
   "execution_count": 4,
   "source": [
    "y = np.random.randint(0,2, size=20)\n",
    "print(y)"
   ],
   "outputs": [
    {
     "output_type": "stream",
     "name": "stdout",
     "text": [
      "[0 1 1 0 0 0 1 1 1 1 0 1 0 1 0 1 0 1 1 0]\n"
     ]
    }
   ],
   "metadata": {}
  },
  {
   "cell_type": "markdown",
   "source": [
    "# Call our SVM module to create an instance of a classifier"
   ],
   "metadata": {}
  },
  {
   "cell_type": "code",
   "execution_count": 5,
   "source": [
    "clf = svm.SVC()"
   ],
   "outputs": [],
   "metadata": {}
  },
  {
   "cell_type": "markdown",
   "source": [
    "## Explore the inputs of the SVC"
   ],
   "metadata": {}
  },
  {
   "cell_type": "code",
   "execution_count": 6,
   "source": [
    "svm.SVC??"
   ],
   "outputs": [
    {
     "output_type": "stream",
     "name": "stdout",
     "text": [
      "\u001b[0;31mInit signature:\u001b[0m\n",
      "\u001b[0msvm\u001b[0m\u001b[0;34m.\u001b[0m\u001b[0mSVC\u001b[0m\u001b[0;34m(\u001b[0m\u001b[0;34m\u001b[0m\n",
      "\u001b[0;34m\u001b[0m    \u001b[0;34m*\u001b[0m\u001b[0;34m,\u001b[0m\u001b[0;34m\u001b[0m\n",
      "\u001b[0;34m\u001b[0m    \u001b[0mC\u001b[0m\u001b[0;34m=\u001b[0m\u001b[0;36m1.0\u001b[0m\u001b[0;34m,\u001b[0m\u001b[0;34m\u001b[0m\n",
      "\u001b[0;34m\u001b[0m    \u001b[0mkernel\u001b[0m\u001b[0;34m=\u001b[0m\u001b[0;34m'rbf'\u001b[0m\u001b[0;34m,\u001b[0m\u001b[0;34m\u001b[0m\n",
      "\u001b[0;34m\u001b[0m    \u001b[0mdegree\u001b[0m\u001b[0;34m=\u001b[0m\u001b[0;36m3\u001b[0m\u001b[0;34m,\u001b[0m\u001b[0;34m\u001b[0m\n",
      "\u001b[0;34m\u001b[0m    \u001b[0mgamma\u001b[0m\u001b[0;34m=\u001b[0m\u001b[0;34m'scale'\u001b[0m\u001b[0;34m,\u001b[0m\u001b[0;34m\u001b[0m\n",
      "\u001b[0;34m\u001b[0m    \u001b[0mcoef0\u001b[0m\u001b[0;34m=\u001b[0m\u001b[0;36m0.0\u001b[0m\u001b[0;34m,\u001b[0m\u001b[0;34m\u001b[0m\n",
      "\u001b[0;34m\u001b[0m    \u001b[0mshrinking\u001b[0m\u001b[0;34m=\u001b[0m\u001b[0;32mTrue\u001b[0m\u001b[0;34m,\u001b[0m\u001b[0;34m\u001b[0m\n",
      "\u001b[0;34m\u001b[0m    \u001b[0mprobability\u001b[0m\u001b[0;34m=\u001b[0m\u001b[0;32mFalse\u001b[0m\u001b[0;34m,\u001b[0m\u001b[0;34m\u001b[0m\n",
      "\u001b[0;34m\u001b[0m    \u001b[0mtol\u001b[0m\u001b[0;34m=\u001b[0m\u001b[0;36m0.001\u001b[0m\u001b[0;34m,\u001b[0m\u001b[0;34m\u001b[0m\n",
      "\u001b[0;34m\u001b[0m    \u001b[0mcache_size\u001b[0m\u001b[0;34m=\u001b[0m\u001b[0;36m200\u001b[0m\u001b[0;34m,\u001b[0m\u001b[0;34m\u001b[0m\n",
      "\u001b[0;34m\u001b[0m    \u001b[0mclass_weight\u001b[0m\u001b[0;34m=\u001b[0m\u001b[0;32mNone\u001b[0m\u001b[0;34m,\u001b[0m\u001b[0;34m\u001b[0m\n",
      "\u001b[0;34m\u001b[0m    \u001b[0mverbose\u001b[0m\u001b[0;34m=\u001b[0m\u001b[0;32mFalse\u001b[0m\u001b[0;34m,\u001b[0m\u001b[0;34m\u001b[0m\n",
      "\u001b[0;34m\u001b[0m    \u001b[0mmax_iter\u001b[0m\u001b[0;34m=\u001b[0m\u001b[0;34m-\u001b[0m\u001b[0;36m1\u001b[0m\u001b[0;34m,\u001b[0m\u001b[0;34m\u001b[0m\n",
      "\u001b[0;34m\u001b[0m    \u001b[0mdecision_function_shape\u001b[0m\u001b[0;34m=\u001b[0m\u001b[0;34m'ovr'\u001b[0m\u001b[0;34m,\u001b[0m\u001b[0;34m\u001b[0m\n",
      "\u001b[0;34m\u001b[0m    \u001b[0mbreak_ties\u001b[0m\u001b[0;34m=\u001b[0m\u001b[0;32mFalse\u001b[0m\u001b[0;34m,\u001b[0m\u001b[0;34m\u001b[0m\n",
      "\u001b[0;34m\u001b[0m    \u001b[0mrandom_state\u001b[0m\u001b[0;34m=\u001b[0m\u001b[0;32mNone\u001b[0m\u001b[0;34m,\u001b[0m\u001b[0;34m\u001b[0m\n",
      "\u001b[0;34m\u001b[0m\u001b[0;34m)\u001b[0m\u001b[0;34m\u001b[0m\u001b[0;34m\u001b[0m\u001b[0m\n",
      "\u001b[0;31mSource:\u001b[0m        \n",
      "\u001b[0;32mclass\u001b[0m \u001b[0mSVC\u001b[0m\u001b[0;34m(\u001b[0m\u001b[0mBaseSVC\u001b[0m\u001b[0;34m)\u001b[0m\u001b[0;34m:\u001b[0m\u001b[0;34m\u001b[0m\n",
      "\u001b[0;34m\u001b[0m    \u001b[0;34m\"\"\"C-Support Vector Classification.\u001b[0m\n",
      "\u001b[0;34m\u001b[0m\n",
      "\u001b[0;34m    The implementation is based on libsvm. The fit time scales at least\u001b[0m\n",
      "\u001b[0;34m    quadratically with the number of samples and may be impractical\u001b[0m\n",
      "\u001b[0;34m    beyond tens of thousands of samples. For large datasets\u001b[0m\n",
      "\u001b[0;34m    consider using :class:`~sklearn.svm.LinearSVC` or\u001b[0m\n",
      "\u001b[0;34m    :class:`~sklearn.linear_model.SGDClassifier` instead, possibly after a\u001b[0m\n",
      "\u001b[0;34m    :class:`~sklearn.kernel_approximation.Nystroem` transformer.\u001b[0m\n",
      "\u001b[0;34m\u001b[0m\n",
      "\u001b[0;34m    The multiclass support is handled according to a one-vs-one scheme.\u001b[0m\n",
      "\u001b[0;34m\u001b[0m\n",
      "\u001b[0;34m    For details on the precise mathematical formulation of the provided\u001b[0m\n",
      "\u001b[0;34m    kernel functions and how `gamma`, `coef0` and `degree` affect each\u001b[0m\n",
      "\u001b[0;34m    other, see the corresponding section in the narrative documentation:\u001b[0m\n",
      "\u001b[0;34m    :ref:`svm_kernels`.\u001b[0m\n",
      "\u001b[0;34m\u001b[0m\n",
      "\u001b[0;34m    Read more in the :ref:`User Guide <svm_classification>`.\u001b[0m\n",
      "\u001b[0;34m\u001b[0m\n",
      "\u001b[0;34m    Parameters\u001b[0m\n",
      "\u001b[0;34m    ----------\u001b[0m\n",
      "\u001b[0;34m    C : float, default=1.0\u001b[0m\n",
      "\u001b[0;34m        Regularization parameter. The strength of the regularization is\u001b[0m\n",
      "\u001b[0;34m        inversely proportional to C. Must be strictly positive. The penalty\u001b[0m\n",
      "\u001b[0;34m        is a squared l2 penalty.\u001b[0m\n",
      "\u001b[0;34m\u001b[0m\n",
      "\u001b[0;34m    kernel : {'linear', 'poly', 'rbf', 'sigmoid', 'precomputed'}, default='rbf'\u001b[0m\n",
      "\u001b[0;34m        Specifies the kernel type to be used in the algorithm.\u001b[0m\n",
      "\u001b[0;34m        It must be one of 'linear', 'poly', 'rbf', 'sigmoid', 'precomputed' or\u001b[0m\n",
      "\u001b[0;34m        a callable.\u001b[0m\n",
      "\u001b[0;34m        If none is given, 'rbf' will be used. If a callable is given it is\u001b[0m\n",
      "\u001b[0;34m        used to pre-compute the kernel matrix from data matrices; that matrix\u001b[0m\n",
      "\u001b[0;34m        should be an array of shape ``(n_samples, n_samples)``.\u001b[0m\n",
      "\u001b[0;34m\u001b[0m\n",
      "\u001b[0;34m    degree : int, default=3\u001b[0m\n",
      "\u001b[0;34m        Degree of the polynomial kernel function ('poly').\u001b[0m\n",
      "\u001b[0;34m        Ignored by all other kernels.\u001b[0m\n",
      "\u001b[0;34m\u001b[0m\n",
      "\u001b[0;34m    gamma : {'scale', 'auto'} or float, default='scale'\u001b[0m\n",
      "\u001b[0;34m        Kernel coefficient for 'rbf', 'poly' and 'sigmoid'.\u001b[0m\n",
      "\u001b[0;34m\u001b[0m\n",
      "\u001b[0;34m        - if ``gamma='scale'`` (default) is passed then it uses\u001b[0m\n",
      "\u001b[0;34m          1 / (n_features * X.var()) as value of gamma,\u001b[0m\n",
      "\u001b[0;34m        - if 'auto', uses 1 / n_features.\u001b[0m\n",
      "\u001b[0;34m\u001b[0m\n",
      "\u001b[0;34m        .. versionchanged:: 0.22\u001b[0m\n",
      "\u001b[0;34m           The default value of ``gamma`` changed from 'auto' to 'scale'.\u001b[0m\n",
      "\u001b[0;34m\u001b[0m\n",
      "\u001b[0;34m    coef0 : float, default=0.0\u001b[0m\n",
      "\u001b[0;34m        Independent term in kernel function.\u001b[0m\n",
      "\u001b[0;34m        It is only significant in 'poly' and 'sigmoid'.\u001b[0m\n",
      "\u001b[0;34m\u001b[0m\n",
      "\u001b[0;34m    shrinking : bool, default=True\u001b[0m\n",
      "\u001b[0;34m        Whether to use the shrinking heuristic.\u001b[0m\n",
      "\u001b[0;34m        See the :ref:`User Guide <shrinking_svm>`.\u001b[0m\n",
      "\u001b[0;34m\u001b[0m\n",
      "\u001b[0;34m    probability : bool, default=False\u001b[0m\n",
      "\u001b[0;34m        Whether to enable probability estimates. This must be enabled prior\u001b[0m\n",
      "\u001b[0;34m        to calling `fit`, will slow down that method as it internally uses\u001b[0m\n",
      "\u001b[0;34m        5-fold cross-validation, and `predict_proba` may be inconsistent with\u001b[0m\n",
      "\u001b[0;34m        `predict`. Read more in the :ref:`User Guide <scores_probabilities>`.\u001b[0m\n",
      "\u001b[0;34m\u001b[0m\n",
      "\u001b[0;34m    tol : float, default=1e-3\u001b[0m\n",
      "\u001b[0;34m        Tolerance for stopping criterion.\u001b[0m\n",
      "\u001b[0;34m\u001b[0m\n",
      "\u001b[0;34m    cache_size : float, default=200\u001b[0m\n",
      "\u001b[0;34m        Specify the size of the kernel cache (in MB).\u001b[0m\n",
      "\u001b[0;34m\u001b[0m\n",
      "\u001b[0;34m    class_weight : dict or 'balanced', default=None\u001b[0m\n",
      "\u001b[0;34m        Set the parameter C of class i to class_weight[i]*C for\u001b[0m\n",
      "\u001b[0;34m        SVC. If not given, all classes are supposed to have\u001b[0m\n",
      "\u001b[0;34m        weight one.\u001b[0m\n",
      "\u001b[0;34m        The \"balanced\" mode uses the values of y to automatically adjust\u001b[0m\n",
      "\u001b[0;34m        weights inversely proportional to class frequencies in the input data\u001b[0m\n",
      "\u001b[0;34m        as ``n_samples / (n_classes * np.bincount(y))``.\u001b[0m\n",
      "\u001b[0;34m\u001b[0m\n",
      "\u001b[0;34m    verbose : bool, default=False\u001b[0m\n",
      "\u001b[0;34m        Enable verbose output. Note that this setting takes advantage of a\u001b[0m\n",
      "\u001b[0;34m        per-process runtime setting in libsvm that, if enabled, may not work\u001b[0m\n",
      "\u001b[0;34m        properly in a multithreaded context.\u001b[0m\n",
      "\u001b[0;34m\u001b[0m\n",
      "\u001b[0;34m    max_iter : int, default=-1\u001b[0m\n",
      "\u001b[0;34m        Hard limit on iterations within solver, or -1 for no limit.\u001b[0m\n",
      "\u001b[0;34m\u001b[0m\n",
      "\u001b[0;34m    decision_function_shape : {'ovo', 'ovr'}, default='ovr'\u001b[0m\n",
      "\u001b[0;34m        Whether to return a one-vs-rest ('ovr') decision function of shape\u001b[0m\n",
      "\u001b[0;34m        (n_samples, n_classes) as all other classifiers, or the original\u001b[0m\n",
      "\u001b[0;34m        one-vs-one ('ovo') decision function of libsvm which has shape\u001b[0m\n",
      "\u001b[0;34m        (n_samples, n_classes * (n_classes - 1) / 2). However, one-vs-one\u001b[0m\n",
      "\u001b[0;34m        ('ovo') is always used as multi-class strategy. The parameter is\u001b[0m\n",
      "\u001b[0;34m        ignored for binary classification.\u001b[0m\n",
      "\u001b[0;34m\u001b[0m\n",
      "\u001b[0;34m        .. versionchanged:: 0.19\u001b[0m\n",
      "\u001b[0;34m            decision_function_shape is 'ovr' by default.\u001b[0m\n",
      "\u001b[0;34m\u001b[0m\n",
      "\u001b[0;34m        .. versionadded:: 0.17\u001b[0m\n",
      "\u001b[0;34m           *decision_function_shape='ovr'* is recommended.\u001b[0m\n",
      "\u001b[0;34m\u001b[0m\n",
      "\u001b[0;34m        .. versionchanged:: 0.17\u001b[0m\n",
      "\u001b[0;34m           Deprecated *decision_function_shape='ovo' and None*.\u001b[0m\n",
      "\u001b[0;34m\u001b[0m\n",
      "\u001b[0;34m    break_ties : bool, default=False\u001b[0m\n",
      "\u001b[0;34m        If true, ``decision_function_shape='ovr'``, and number of classes > 2,\u001b[0m\n",
      "\u001b[0;34m        :term:`predict` will break ties according to the confidence values of\u001b[0m\n",
      "\u001b[0;34m        :term:`decision_function`; otherwise the first class among the tied\u001b[0m\n",
      "\u001b[0;34m        classes is returned. Please note that breaking ties comes at a\u001b[0m\n",
      "\u001b[0;34m        relatively high computational cost compared to a simple predict.\u001b[0m\n",
      "\u001b[0;34m\u001b[0m\n",
      "\u001b[0;34m        .. versionadded:: 0.22\u001b[0m\n",
      "\u001b[0;34m\u001b[0m\n",
      "\u001b[0;34m    random_state : int, RandomState instance or None, default=None\u001b[0m\n",
      "\u001b[0;34m        Controls the pseudo random number generation for shuffling the data for\u001b[0m\n",
      "\u001b[0;34m        probability estimates. Ignored when `probability` is False.\u001b[0m\n",
      "\u001b[0;34m        Pass an int for reproducible output across multiple function calls.\u001b[0m\n",
      "\u001b[0;34m        See :term:`Glossary <random_state>`.\u001b[0m\n",
      "\u001b[0;34m\u001b[0m\n",
      "\u001b[0;34m    Attributes\u001b[0m\n",
      "\u001b[0;34m    ----------\u001b[0m\n",
      "\u001b[0;34m    class_weight_ : ndarray of shape (n_classes,)\u001b[0m\n",
      "\u001b[0;34m        Multipliers of parameter C for each class.\u001b[0m\n",
      "\u001b[0;34m        Computed based on the ``class_weight`` parameter.\u001b[0m\n",
      "\u001b[0;34m\u001b[0m\n",
      "\u001b[0;34m    classes_ : ndarray of shape (n_classes,)\u001b[0m\n",
      "\u001b[0;34m        The classes labels.\u001b[0m\n",
      "\u001b[0;34m\u001b[0m\n",
      "\u001b[0;34m    coef_ : ndarray of shape (n_classes * (n_classes - 1) / 2, n_features)\u001b[0m\n",
      "\u001b[0;34m        Weights assigned to the features (coefficients in the primal\u001b[0m\n",
      "\u001b[0;34m        problem). This is only available in the case of a linear kernel.\u001b[0m\n",
      "\u001b[0;34m\u001b[0m\n",
      "\u001b[0;34m        `coef_` is a readonly property derived from `dual_coef_` and\u001b[0m\n",
      "\u001b[0;34m        `support_vectors_`.\u001b[0m\n",
      "\u001b[0;34m\u001b[0m\n",
      "\u001b[0;34m    dual_coef_ : ndarray of shape (n_classes -1, n_SV)\u001b[0m\n",
      "\u001b[0;34m        Dual coefficients of the support vector in the decision\u001b[0m\n",
      "\u001b[0;34m        function (see :ref:`sgd_mathematical_formulation`), multiplied by\u001b[0m\n",
      "\u001b[0;34m        their targets.\u001b[0m\n",
      "\u001b[0;34m        For multiclass, coefficient for all 1-vs-1 classifiers.\u001b[0m\n",
      "\u001b[0;34m        The layout of the coefficients in the multiclass case is somewhat\u001b[0m\n",
      "\u001b[0;34m        non-trivial. See the :ref:`multi-class section of the User Guide\u001b[0m\n",
      "\u001b[0;34m        <svm_multi_class>` for details.\u001b[0m\n",
      "\u001b[0;34m\u001b[0m\n",
      "\u001b[0;34m    fit_status_ : int\u001b[0m\n",
      "\u001b[0;34m        0 if correctly fitted, 1 otherwise (will raise warning)\u001b[0m\n",
      "\u001b[0;34m\u001b[0m\n",
      "\u001b[0;34m    intercept_ : ndarray of shape (n_classes * (n_classes - 1) / 2,)\u001b[0m\n",
      "\u001b[0;34m        Constants in decision function.\u001b[0m\n",
      "\u001b[0;34m\u001b[0m\n",
      "\u001b[0;34m    n_features_in_ : int\u001b[0m\n",
      "\u001b[0;34m        Number of features seen during :term:`fit`.\u001b[0m\n",
      "\u001b[0;34m\u001b[0m\n",
      "\u001b[0;34m        .. versionadded:: 0.24\u001b[0m\n",
      "\u001b[0;34m\u001b[0m\n",
      "\u001b[0;34m    feature_names_in_ : ndarray of shape (`n_features_in_`,)\u001b[0m\n",
      "\u001b[0;34m        Names of features seen during :term:`fit`. Defined only when `X`\u001b[0m\n",
      "\u001b[0;34m        has feature names that are all strings.\u001b[0m\n",
      "\u001b[0;34m\u001b[0m\n",
      "\u001b[0;34m        .. versionadded:: 1.0\u001b[0m\n",
      "\u001b[0;34m\u001b[0m\n",
      "\u001b[0;34m    support_ : ndarray of shape (n_SV)\u001b[0m\n",
      "\u001b[0;34m        Indices of support vectors.\u001b[0m\n",
      "\u001b[0;34m\u001b[0m\n",
      "\u001b[0;34m    support_vectors_ : ndarray of shape (n_SV, n_features)\u001b[0m\n",
      "\u001b[0;34m        Support vectors.\u001b[0m\n",
      "\u001b[0;34m\u001b[0m\n",
      "\u001b[0;34m    n_support_ : ndarray of shape (n_classes,), dtype=int32\u001b[0m\n",
      "\u001b[0;34m        Number of support vectors for each class.\u001b[0m\n",
      "\u001b[0;34m\u001b[0m\n",
      "\u001b[0;34m    probA_ : ndarray of shape (n_classes * (n_classes - 1) / 2)\u001b[0m\n",
      "\u001b[0;34m    probB_ : ndarray of shape (n_classes * (n_classes - 1) / 2)\u001b[0m\n",
      "\u001b[0;34m        If `probability=True`, it corresponds to the parameters learned in\u001b[0m\n",
      "\u001b[0;34m        Platt scaling to produce probability estimates from decision values.\u001b[0m\n",
      "\u001b[0;34m        If `probability=False`, it's an empty array. Platt scaling uses the\u001b[0m\n",
      "\u001b[0;34m        logistic function\u001b[0m\n",
      "\u001b[0;34m        ``1 / (1 + exp(decision_value * probA_ + probB_))``\u001b[0m\n",
      "\u001b[0;34m        where ``probA_`` and ``probB_`` are learned from the dataset [2]_. For\u001b[0m\n",
      "\u001b[0;34m        more information on the multiclass case and training procedure see\u001b[0m\n",
      "\u001b[0;34m        section 8 of [1]_.\u001b[0m\n",
      "\u001b[0;34m\u001b[0m\n",
      "\u001b[0;34m    shape_fit_ : tuple of int of shape (n_dimensions_of_X,)\u001b[0m\n",
      "\u001b[0;34m        Array dimensions of training vector ``X``.\u001b[0m\n",
      "\u001b[0;34m\u001b[0m\n",
      "\u001b[0;34m    See Also\u001b[0m\n",
      "\u001b[0;34m    --------\u001b[0m\n",
      "\u001b[0;34m    SVR : Support Vector Machine for Regression implemented using libsvm.\u001b[0m\n",
      "\u001b[0;34m\u001b[0m\n",
      "\u001b[0;34m    LinearSVC : Scalable Linear Support Vector Machine for classification\u001b[0m\n",
      "\u001b[0;34m        implemented using liblinear. Check the See Also section of\u001b[0m\n",
      "\u001b[0;34m        LinearSVC for more comparison element.\u001b[0m\n",
      "\u001b[0;34m\u001b[0m\n",
      "\u001b[0;34m    References\u001b[0m\n",
      "\u001b[0;34m    ----------\u001b[0m\n",
      "\u001b[0;34m    .. [1] `LIBSVM: A Library for Support Vector Machines\u001b[0m\n",
      "\u001b[0;34m        <http://www.csie.ntu.edu.tw/~cjlin/papers/libsvm.pdf>`_\u001b[0m\n",
      "\u001b[0;34m\u001b[0m\n",
      "\u001b[0;34m    .. [2] `Platt, John (1999). \"Probabilistic outputs for support vector\u001b[0m\n",
      "\u001b[0;34m        machines and comparison to regularizedlikelihood methods.\"\u001b[0m\n",
      "\u001b[0;34m        <http://citeseer.ist.psu.edu/viewdoc/summary?doi=10.1.1.41.1639>`_\u001b[0m\n",
      "\u001b[0;34m\u001b[0m\n",
      "\u001b[0;34m    Examples\u001b[0m\n",
      "\u001b[0;34m    --------\u001b[0m\n",
      "\u001b[0;34m    >>> import numpy as np\u001b[0m\n",
      "\u001b[0;34m    >>> from sklearn.pipeline import make_pipeline\u001b[0m\n",
      "\u001b[0;34m    >>> from sklearn.preprocessing import StandardScaler\u001b[0m\n",
      "\u001b[0;34m    >>> X = np.array([[-1, -1], [-2, -1], [1, 1], [2, 1]])\u001b[0m\n",
      "\u001b[0;34m    >>> y = np.array([1, 1, 2, 2])\u001b[0m\n",
      "\u001b[0;34m    >>> from sklearn.svm import SVC\u001b[0m\n",
      "\u001b[0;34m    >>> clf = make_pipeline(StandardScaler(), SVC(gamma='auto'))\u001b[0m\n",
      "\u001b[0;34m    >>> clf.fit(X, y)\u001b[0m\n",
      "\u001b[0;34m    Pipeline(steps=[('standardscaler', StandardScaler()),\u001b[0m\n",
      "\u001b[0;34m                    ('svc', SVC(gamma='auto'))])\u001b[0m\n",
      "\u001b[0;34m\u001b[0m\n",
      "\u001b[0;34m    >>> print(clf.predict([[-0.8, -1]]))\u001b[0m\n",
      "\u001b[0;34m    [1]\u001b[0m\n",
      "\u001b[0;34m    \"\"\"\u001b[0m\u001b[0;34m\u001b[0m\n",
      "\u001b[0;34m\u001b[0m\u001b[0;34m\u001b[0m\n",
      "\u001b[0;34m\u001b[0m    \u001b[0m_impl\u001b[0m \u001b[0;34m=\u001b[0m \u001b[0;34m\"c_svc\"\u001b[0m\u001b[0;34m\u001b[0m\n",
      "\u001b[0;34m\u001b[0m\u001b[0;34m\u001b[0m\n",
      "\u001b[0;34m\u001b[0m    \u001b[0;32mdef\u001b[0m \u001b[0m__init__\u001b[0m\u001b[0;34m(\u001b[0m\u001b[0;34m\u001b[0m\n",
      "\u001b[0;34m\u001b[0m        \u001b[0mself\u001b[0m\u001b[0;34m,\u001b[0m\u001b[0;34m\u001b[0m\n",
      "\u001b[0;34m\u001b[0m        \u001b[0;34m*\u001b[0m\u001b[0;34m,\u001b[0m\u001b[0;34m\u001b[0m\n",
      "\u001b[0;34m\u001b[0m        \u001b[0mC\u001b[0m\u001b[0;34m=\u001b[0m\u001b[0;36m1.0\u001b[0m\u001b[0;34m,\u001b[0m\u001b[0;34m\u001b[0m\n",
      "\u001b[0;34m\u001b[0m        \u001b[0mkernel\u001b[0m\u001b[0;34m=\u001b[0m\u001b[0;34m\"rbf\"\u001b[0m\u001b[0;34m,\u001b[0m\u001b[0;34m\u001b[0m\n",
      "\u001b[0;34m\u001b[0m        \u001b[0mdegree\u001b[0m\u001b[0;34m=\u001b[0m\u001b[0;36m3\u001b[0m\u001b[0;34m,\u001b[0m\u001b[0;34m\u001b[0m\n",
      "\u001b[0;34m\u001b[0m        \u001b[0mgamma\u001b[0m\u001b[0;34m=\u001b[0m\u001b[0;34m\"scale\"\u001b[0m\u001b[0;34m,\u001b[0m\u001b[0;34m\u001b[0m\n",
      "\u001b[0;34m\u001b[0m        \u001b[0mcoef0\u001b[0m\u001b[0;34m=\u001b[0m\u001b[0;36m0.0\u001b[0m\u001b[0;34m,\u001b[0m\u001b[0;34m\u001b[0m\n",
      "\u001b[0;34m\u001b[0m        \u001b[0mshrinking\u001b[0m\u001b[0;34m=\u001b[0m\u001b[0;32mTrue\u001b[0m\u001b[0;34m,\u001b[0m\u001b[0;34m\u001b[0m\n",
      "\u001b[0;34m\u001b[0m        \u001b[0mprobability\u001b[0m\u001b[0;34m=\u001b[0m\u001b[0;32mFalse\u001b[0m\u001b[0;34m,\u001b[0m\u001b[0;34m\u001b[0m\n",
      "\u001b[0;34m\u001b[0m        \u001b[0mtol\u001b[0m\u001b[0;34m=\u001b[0m\u001b[0;36m1e-3\u001b[0m\u001b[0;34m,\u001b[0m\u001b[0;34m\u001b[0m\n",
      "\u001b[0;34m\u001b[0m        \u001b[0mcache_size\u001b[0m\u001b[0;34m=\u001b[0m\u001b[0;36m200\u001b[0m\u001b[0;34m,\u001b[0m\u001b[0;34m\u001b[0m\n",
      "\u001b[0;34m\u001b[0m        \u001b[0mclass_weight\u001b[0m\u001b[0;34m=\u001b[0m\u001b[0;32mNone\u001b[0m\u001b[0;34m,\u001b[0m\u001b[0;34m\u001b[0m\n",
      "\u001b[0;34m\u001b[0m        \u001b[0mverbose\u001b[0m\u001b[0;34m=\u001b[0m\u001b[0;32mFalse\u001b[0m\u001b[0;34m,\u001b[0m\u001b[0;34m\u001b[0m\n",
      "\u001b[0;34m\u001b[0m        \u001b[0mmax_iter\u001b[0m\u001b[0;34m=\u001b[0m\u001b[0;34m-\u001b[0m\u001b[0;36m1\u001b[0m\u001b[0;34m,\u001b[0m\u001b[0;34m\u001b[0m\n",
      "\u001b[0;34m\u001b[0m        \u001b[0mdecision_function_shape\u001b[0m\u001b[0;34m=\u001b[0m\u001b[0;34m\"ovr\"\u001b[0m\u001b[0;34m,\u001b[0m\u001b[0;34m\u001b[0m\n",
      "\u001b[0;34m\u001b[0m        \u001b[0mbreak_ties\u001b[0m\u001b[0;34m=\u001b[0m\u001b[0;32mFalse\u001b[0m\u001b[0;34m,\u001b[0m\u001b[0;34m\u001b[0m\n",
      "\u001b[0;34m\u001b[0m        \u001b[0mrandom_state\u001b[0m\u001b[0;34m=\u001b[0m\u001b[0;32mNone\u001b[0m\u001b[0;34m,\u001b[0m\u001b[0;34m\u001b[0m\n",
      "\u001b[0;34m\u001b[0m    \u001b[0;34m)\u001b[0m\u001b[0;34m:\u001b[0m\u001b[0;34m\u001b[0m\n",
      "\u001b[0;34m\u001b[0m\u001b[0;34m\u001b[0m\n",
      "\u001b[0;34m\u001b[0m        \u001b[0msuper\u001b[0m\u001b[0;34m(\u001b[0m\u001b[0;34m)\u001b[0m\u001b[0;34m.\u001b[0m\u001b[0m__init__\u001b[0m\u001b[0;34m(\u001b[0m\u001b[0;34m\u001b[0m\n",
      "\u001b[0;34m\u001b[0m            \u001b[0mkernel\u001b[0m\u001b[0;34m=\u001b[0m\u001b[0mkernel\u001b[0m\u001b[0;34m,\u001b[0m\u001b[0;34m\u001b[0m\n",
      "\u001b[0;34m\u001b[0m            \u001b[0mdegree\u001b[0m\u001b[0;34m=\u001b[0m\u001b[0mdegree\u001b[0m\u001b[0;34m,\u001b[0m\u001b[0;34m\u001b[0m\n",
      "\u001b[0;34m\u001b[0m            \u001b[0mgamma\u001b[0m\u001b[0;34m=\u001b[0m\u001b[0mgamma\u001b[0m\u001b[0;34m,\u001b[0m\u001b[0;34m\u001b[0m\n",
      "\u001b[0;34m\u001b[0m            \u001b[0mcoef0\u001b[0m\u001b[0;34m=\u001b[0m\u001b[0mcoef0\u001b[0m\u001b[0;34m,\u001b[0m\u001b[0;34m\u001b[0m\n",
      "\u001b[0;34m\u001b[0m            \u001b[0mtol\u001b[0m\u001b[0;34m=\u001b[0m\u001b[0mtol\u001b[0m\u001b[0;34m,\u001b[0m\u001b[0;34m\u001b[0m\n",
      "\u001b[0;34m\u001b[0m            \u001b[0mC\u001b[0m\u001b[0;34m=\u001b[0m\u001b[0mC\u001b[0m\u001b[0;34m,\u001b[0m\u001b[0;34m\u001b[0m\n",
      "\u001b[0;34m\u001b[0m            \u001b[0mnu\u001b[0m\u001b[0;34m=\u001b[0m\u001b[0;36m0.0\u001b[0m\u001b[0;34m,\u001b[0m\u001b[0;34m\u001b[0m\n",
      "\u001b[0;34m\u001b[0m            \u001b[0mshrinking\u001b[0m\u001b[0;34m=\u001b[0m\u001b[0mshrinking\u001b[0m\u001b[0;34m,\u001b[0m\u001b[0;34m\u001b[0m\n",
      "\u001b[0;34m\u001b[0m            \u001b[0mprobability\u001b[0m\u001b[0;34m=\u001b[0m\u001b[0mprobability\u001b[0m\u001b[0;34m,\u001b[0m\u001b[0;34m\u001b[0m\n",
      "\u001b[0;34m\u001b[0m            \u001b[0mcache_size\u001b[0m\u001b[0;34m=\u001b[0m\u001b[0mcache_size\u001b[0m\u001b[0;34m,\u001b[0m\u001b[0;34m\u001b[0m\n",
      "\u001b[0;34m\u001b[0m            \u001b[0mclass_weight\u001b[0m\u001b[0;34m=\u001b[0m\u001b[0mclass_weight\u001b[0m\u001b[0;34m,\u001b[0m\u001b[0;34m\u001b[0m\n",
      "\u001b[0;34m\u001b[0m            \u001b[0mverbose\u001b[0m\u001b[0;34m=\u001b[0m\u001b[0mverbose\u001b[0m\u001b[0;34m,\u001b[0m\u001b[0;34m\u001b[0m\n",
      "\u001b[0;34m\u001b[0m            \u001b[0mmax_iter\u001b[0m\u001b[0;34m=\u001b[0m\u001b[0mmax_iter\u001b[0m\u001b[0;34m,\u001b[0m\u001b[0;34m\u001b[0m\n",
      "\u001b[0;34m\u001b[0m            \u001b[0mdecision_function_shape\u001b[0m\u001b[0;34m=\u001b[0m\u001b[0mdecision_function_shape\u001b[0m\u001b[0;34m,\u001b[0m\u001b[0;34m\u001b[0m\n",
      "\u001b[0;34m\u001b[0m            \u001b[0mbreak_ties\u001b[0m\u001b[0;34m=\u001b[0m\u001b[0mbreak_ties\u001b[0m\u001b[0;34m,\u001b[0m\u001b[0;34m\u001b[0m\n",
      "\u001b[0;34m\u001b[0m            \u001b[0mrandom_state\u001b[0m\u001b[0;34m=\u001b[0m\u001b[0mrandom_state\u001b[0m\u001b[0;34m,\u001b[0m\u001b[0;34m\u001b[0m\n",
      "\u001b[0;34m\u001b[0m        \u001b[0;34m)\u001b[0m\u001b[0;34m\u001b[0m\n",
      "\u001b[0;34m\u001b[0m\u001b[0;34m\u001b[0m\n",
      "\u001b[0;34m\u001b[0m    \u001b[0;32mdef\u001b[0m \u001b[0m_more_tags\u001b[0m\u001b[0;34m(\u001b[0m\u001b[0mself\u001b[0m\u001b[0;34m)\u001b[0m\u001b[0;34m:\u001b[0m\u001b[0;34m\u001b[0m\n",
      "\u001b[0;34m\u001b[0m        \u001b[0;32mreturn\u001b[0m \u001b[0;34m{\u001b[0m\u001b[0;34m\u001b[0m\n",
      "\u001b[0;34m\u001b[0m            \u001b[0;34m\"_xfail_checks\"\u001b[0m\u001b[0;34m:\u001b[0m \u001b[0;34m{\u001b[0m\u001b[0;34m\u001b[0m\n",
      "\u001b[0;34m\u001b[0m                \u001b[0;34m\"check_sample_weights_invariance\"\u001b[0m\u001b[0;34m:\u001b[0m \u001b[0;34m(\u001b[0m\u001b[0;34m\u001b[0m\n",
      "\u001b[0;34m\u001b[0m                    \u001b[0;34m\"zero sample_weight is not equivalent to removing samples\"\u001b[0m\u001b[0;34m\u001b[0m\n",
      "\u001b[0;34m\u001b[0m                \u001b[0;34m)\u001b[0m\u001b[0;34m,\u001b[0m\u001b[0;34m\u001b[0m\n",
      "\u001b[0;34m\u001b[0m            \u001b[0;34m}\u001b[0m\u001b[0;34m\u001b[0m\n",
      "\u001b[0;34m\u001b[0m        \u001b[0;34m}\u001b[0m\u001b[0;34m\u001b[0m\u001b[0;34m\u001b[0m\u001b[0m\n",
      "\u001b[0;31mFile:\u001b[0m           /opt/homebrew/Caskroom/miniforge/base/lib/python3.9/site-packages/sklearn/svm/_classes.py\n",
      "\u001b[0;31mType:\u001b[0m           ABCMeta\n",
      "\u001b[0;31mSubclasses:\u001b[0m     \n"
     ]
    }
   ],
   "metadata": {}
  },
  {
   "cell_type": "markdown",
   "source": [
    "# Fit model"
   ],
   "metadata": {}
  },
  {
   "cell_type": "code",
   "execution_count": 11,
   "source": [
    "# Fit the model to x and y\n",
    "clf.fit(X,y)"
   ],
   "outputs": [
    {
     "output_type": "execute_result",
     "data": {
      "text/plain": [
       "SVC()"
      ]
     },
     "metadata": {},
     "execution_count": 11
    }
   ],
   "metadata": {}
  },
  {
   "cell_type": "code",
   "execution_count": 12,
   "source": [
    "# Verify we only have two classes\n",
    "clf.classes_"
   ],
   "outputs": [
    {
     "output_type": "execute_result",
     "data": {
      "text/plain": [
       "array([0, 1])"
      ]
     },
     "metadata": {},
     "execution_count": 12
    }
   ],
   "metadata": {}
  },
  {
   "cell_type": "markdown",
   "source": [
    "## See how well the training data fits"
   ],
   "metadata": {}
  },
  {
   "cell_type": "code",
   "execution_count": 13,
   "source": [
    "# Get the training classification score\n",
    "clf.score(X,y)"
   ],
   "outputs": [
    {
     "output_type": "execute_result",
     "data": {
      "text/plain": [
       "0.6"
      ]
     },
     "metadata": {},
     "execution_count": 13
    }
   ],
   "metadata": {}
  },
  {
   "cell_type": "markdown",
   "source": [
    "# What if we change the kernel?"
   ],
   "metadata": {}
  },
  {
   "cell_type": "code",
   "execution_count": 14,
   "source": [
    "# Kernels accepted by the function\n",
    "list_kerns = ['linear', 'poly', 'rbf', 'sigmoid']\n",
    "\n",
    "# Loop over them and train a model\n",
    "\n",
    "for kernel in list_kerns:\n",
    "    print(f'Kernel being used is {kernel}')\n",
    "    clf = svm.SVC(kernel=kernel)\n",
    "    clf.fit(X,y)\n",
    "    print(clf.score(X,y))"
   ],
   "outputs": [
    {
     "output_type": "stream",
     "name": "stdout",
     "text": [
      "Kernel being used is linear\n",
      "0.55\n",
      "Kernel being used is poly\n",
      "0.55\n",
      "Kernel being used is rbf\n",
      "0.6\n",
      "Kernel being used is sigmoid\n",
      "0.55\n"
     ]
    }
   ],
   "metadata": {}
  }
 ],
 "metadata": {
  "orig_nbformat": 4,
  "language_info": {
   "name": "python",
   "version": "3.9.6",
   "mimetype": "text/x-python",
   "codemirror_mode": {
    "name": "ipython",
    "version": 3
   },
   "pygments_lexer": "ipython3",
   "nbconvert_exporter": "python",
   "file_extension": ".py"
  },
  "kernelspec": {
   "name": "python3",
   "display_name": "Python 3.9.6 64-bit ('base': conda)"
  },
  "interpreter": {
   "hash": "95ec9ec1504d83f612128e0fb229072f90bbb4cb09d9d5d93b5dd26e0ca2cfd1"
  }
 },
 "nbformat": 4,
 "nbformat_minor": 2
}